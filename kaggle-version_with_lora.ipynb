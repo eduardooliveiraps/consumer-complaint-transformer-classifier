{
 "cells": [
  {
   "cell_type": "code",
   "execution_count": 1,
   "metadata": {},
   "outputs": [
    {
     "name": "stderr",
     "output_type": "stream",
     "text": [
      "\u001b[34m\u001b[1mwandb\u001b[0m: \u001b[33mWARNING\u001b[0m If you're specifying your api key in code, ensure this code is not shared publicly.\n",
      "\u001b[34m\u001b[1mwandb\u001b[0m: \u001b[33mWARNING\u001b[0m Consider setting the WANDB_API_KEY environment variable, or running `wandb login` from the command line.\n",
      "\u001b[34m\u001b[1mwandb\u001b[0m: Appending key for api.wandb.ai to your netrc file: /teamspace/studios/this_studio/.netrc\n",
      "\u001b[34m\u001b[1mwandb\u001b[0m: Currently logged in as: \u001b[33mandretiagosilva77\u001b[0m (\u001b[33mandretiagosilva77-faculdade-de-engenharia-da-universidad\u001b[0m) to \u001b[32mhttps://api.wandb.ai\u001b[0m. Use \u001b[1m`wandb login --relogin`\u001b[0m to force relogin\n"
     ]
    },
    {
     "name": "stdout",
     "output_type": "stream",
     "text": [
      "🔥 Consumer Complaint Classification - Statistical Robustness Pipeline\n",
      "================================================================================\n",
      "Model: roberta-base\n",
      "Learning Rate: 2e-05\n",
      "Epochs: 10\n",
      "Iterations: 5\n",
      "================================================================================\n",
      "💻 Using device: cuda\n",
      "📊 Loading and preparing dataset...\n",
      "   Original dataset size: 2023066\n",
      "   Original class distribution:\n",
      "product_5\n",
      "Credit Reporting              1205275\n",
      "Debt Collection                266842\n",
      "Loans                          228599\n",
      "Credit Card Services           163710\n",
      "Bank Accounts and Services     158640\n",
      "Name: count, dtype: int64\n",
      "✅ Balanced dataset prepared: 12500 samples\n",
      "📋 Classes (5): ['Bank Accounts and Services', 'Credit Card Services', 'Credit Reporting', 'Debt Collection', 'Loans']\n",
      "📋 Samples per class: 2500\n",
      "\n",
      "🔄 Starting 5 iterations for statistical robustness...\n",
      "--------------------------------------------------------------------------------\n",
      "\n",
      "📋 ITERATION 1/5\n",
      "----------------------------------------\n",
      "🔄 Split 1: Train=8750, Val=1875, Test=1875\n",
      "   Train classes: {0: 1750, 1: 1750, 2: 1750, 3: 1750, 4: 1750}\n",
      "   Val classes: {0: 375, 1: 375, 2: 375, 3: 375, 4: 375}\n",
      "   Test classes: {0: 375, 1: 375, 2: 375, 3: 375, 4: 375}\n",
      "🤖 Loading model: roberta-base\n"
     ]
    },
    {
     "name": "stderr",
     "output_type": "stream",
     "text": [
      "Some weights of RobertaForSequenceClassification were not initialized from the model checkpoint at roberta-base and are newly initialized: ['classifier.dense.bias', 'classifier.dense.weight', 'classifier.out_proj.bias', 'classifier.out_proj.weight']\n",
      "You should probably TRAIN this model on a down-stream task to be able to use it for predictions and inference.\n"
     ]
    },
    {
     "name": "stdout",
     "output_type": "stream",
     "text": [
      "⚠️ No PEFT applied. Using full fine-tuning.\n"
     ]
    },
    {
     "name": "stderr",
     "output_type": "stream",
     "text": [
      "\u001b[34m\u001b[1mwandb\u001b[0m: \u001b[33mWARNING\u001b[0m Using a boolean value for 'reinit' is deprecated. Use 'return_previous' or 'finish_previous' instead.\n"
     ]
    },
    {
     "name": "stdout",
     "output_type": "stream",
     "text": [
      "\n",
      "🚀 Starting training for iteration 1...\n"
     ]
    },
    {
     "data": {
      "text/html": [
       "Tracking run with wandb version 0.19.11"
      ],
      "text/plain": [
       "<IPython.core.display.HTML object>"
      ]
     },
     "metadata": {},
     "output_type": "display_data"
    },
    {
     "data": {
      "text/html": [
       "Run data is saved locally in <code>/teamspace/studios/this_studio/consumer-complaint-transformer-classifier/wandb/run-20250523_205802-4hl1xcez</code>"
      ],
      "text/plain": [
       "<IPython.core.display.HTML object>"
      ]
     },
     "metadata": {},
     "output_type": "display_data"
    },
    {
     "data": {
      "text/html": [
       "Syncing run <strong><a href='https://wandb.ai/andretiagosilva77-faculdade-de-engenharia-da-universidad/consumer-complaints-robustness/runs/4hl1xcez' target=\"_blank\">iteration_1</a></strong> to <a href='https://wandb.ai/andretiagosilva77-faculdade-de-engenharia-da-universidad/consumer-complaints-robustness' target=\"_blank\">Weights & Biases</a> (<a href='https://wandb.me/developer-guide' target=\"_blank\">docs</a>)<br>"
      ],
      "text/plain": [
       "<IPython.core.display.HTML object>"
      ]
     },
     "metadata": {},
     "output_type": "display_data"
    },
    {
     "data": {
      "text/html": [
       " View project at <a href='https://wandb.ai/andretiagosilva77-faculdade-de-engenharia-da-universidad/consumer-complaints-robustness' target=\"_blank\">https://wandb.ai/andretiagosilva77-faculdade-de-engenharia-da-universidad/consumer-complaints-robustness</a>"
      ],
      "text/plain": [
       "<IPython.core.display.HTML object>"
      ]
     },
     "metadata": {},
     "output_type": "display_data"
    },
    {
     "data": {
      "text/html": [
       " View run at <a href='https://wandb.ai/andretiagosilva77-faculdade-de-engenharia-da-universidad/consumer-complaints-robustness/runs/4hl1xcez' target=\"_blank\">https://wandb.ai/andretiagosilva77-faculdade-de-engenharia-da-universidad/consumer-complaints-robustness/runs/4hl1xcez</a>"
      ],
      "text/plain": [
       "<IPython.core.display.HTML object>"
      ]
     },
     "metadata": {},
     "output_type": "display_data"
    },
    {
     "name": "stdout",
     "output_type": "stream",
     "text": [
      "   Training with 8750 samples...\n"
     ]
    },
    {
     "data": {
      "text/html": [
       "\n",
       "    <div>\n",
       "      \n",
       "      <progress value='900' max='5470' style='width:300px; height:20px; vertical-align: middle;'></progress>\n",
       "      [ 900/5470 08:39 < 44:03, 1.73 it/s, Epoch 1/10]\n",
       "    </div>\n",
       "    <table border=\"1\" class=\"dataframe\">\n",
       "  <thead>\n",
       " <tr style=\"text-align: left;\">\n",
       "      <th>Step</th>\n",
       "      <th>Training Loss</th>\n",
       "      <th>Validation Loss</th>\n",
       "      <th>Accuracy</th>\n",
       "      <th>F1</th>\n",
       "      <th>Precision</th>\n",
       "      <th>Recall</th>\n",
       "      <th>F1 Per Class Mean</th>\n",
       "      <th>Precision Per Class Mean</th>\n",
       "      <th>Recall Per Class Mean</th>\n",
       "    </tr>\n",
       "  </thead>\n",
       "  <tbody>\n",
       "    <tr>\n",
       "      <td>100</td>\n",
       "      <td>1.603300</td>\n",
       "      <td>1.600673</td>\n",
       "      <td>0.301867</td>\n",
       "      <td>0.191264</td>\n",
       "      <td>0.175914</td>\n",
       "      <td>0.301867</td>\n",
       "      <td>0.191264</td>\n",
       "      <td>0.175914</td>\n",
       "      <td>0.301867</td>\n",
       "    </tr>\n",
       "    <tr>\n",
       "      <td>200</td>\n",
       "      <td>1.022000</td>\n",
       "      <td>0.805509</td>\n",
       "      <td>0.734400</td>\n",
       "      <td>0.731723</td>\n",
       "      <td>0.738554</td>\n",
       "      <td>0.734400</td>\n",
       "      <td>0.731723</td>\n",
       "      <td>0.738554</td>\n",
       "      <td>0.734400</td>\n",
       "    </tr>\n",
       "    <tr>\n",
       "      <td>300</td>\n",
       "      <td>0.611100</td>\n",
       "      <td>0.684469</td>\n",
       "      <td>0.770133</td>\n",
       "      <td>0.768751</td>\n",
       "      <td>0.782451</td>\n",
       "      <td>0.770133</td>\n",
       "      <td>0.768751</td>\n",
       "      <td>0.782451</td>\n",
       "      <td>0.770133</td>\n",
       "    </tr>\n",
       "    <tr>\n",
       "      <td>400</td>\n",
       "      <td>0.637200</td>\n",
       "      <td>0.646050</td>\n",
       "      <td>0.787733</td>\n",
       "      <td>0.787251</td>\n",
       "      <td>0.805400</td>\n",
       "      <td>0.787733</td>\n",
       "      <td>0.787251</td>\n",
       "      <td>0.805400</td>\n",
       "      <td>0.787733</td>\n",
       "    </tr>\n",
       "    <tr>\n",
       "      <td>500</td>\n",
       "      <td>0.614900</td>\n",
       "      <td>0.599823</td>\n",
       "      <td>0.804800</td>\n",
       "      <td>0.804162</td>\n",
       "      <td>0.806916</td>\n",
       "      <td>0.804800</td>\n",
       "      <td>0.804162</td>\n",
       "      <td>0.806916</td>\n",
       "      <td>0.804800</td>\n",
       "    </tr>\n",
       "    <tr>\n",
       "      <td>600</td>\n",
       "      <td>0.526900</td>\n",
       "      <td>0.574437</td>\n",
       "      <td>0.813867</td>\n",
       "      <td>0.813461</td>\n",
       "      <td>0.818439</td>\n",
       "      <td>0.813867</td>\n",
       "      <td>0.813461</td>\n",
       "      <td>0.818439</td>\n",
       "      <td>0.813867</td>\n",
       "    </tr>\n",
       "    <tr>\n",
       "      <td>700</td>\n",
       "      <td>0.523700</td>\n",
       "      <td>0.590951</td>\n",
       "      <td>0.813867</td>\n",
       "      <td>0.813903</td>\n",
       "      <td>0.821603</td>\n",
       "      <td>0.813867</td>\n",
       "      <td>0.813903</td>\n",
       "      <td>0.821603</td>\n",
       "      <td>0.813867</td>\n",
       "    </tr>\n",
       "    <tr>\n",
       "      <td>800</td>\n",
       "      <td>0.477200</td>\n",
       "      <td>0.584860</td>\n",
       "      <td>0.808000</td>\n",
       "      <td>0.807889</td>\n",
       "      <td>0.809759</td>\n",
       "      <td>0.808000</td>\n",
       "      <td>0.807889</td>\n",
       "      <td>0.809759</td>\n",
       "      <td>0.808000</td>\n",
       "    </tr>\n",
       "    <tr>\n",
       "      <td>900</td>\n",
       "      <td>0.512600</td>\n",
       "      <td>0.584300</td>\n",
       "      <td>0.813867</td>\n",
       "      <td>0.812992</td>\n",
       "      <td>0.814722</td>\n",
       "      <td>0.813867</td>\n",
       "      <td>0.812992</td>\n",
       "      <td>0.814722</td>\n",
       "      <td>0.813867</td>\n",
       "    </tr>\n",
       "  </tbody>\n",
       "</table><p>"
      ],
      "text/plain": [
       "<IPython.core.display.HTML object>"
      ]
     },
     "metadata": {},
     "output_type": "display_data"
    },
    {
     "data": {
      "text/html": [],
      "text/plain": [
       "<IPython.core.display.HTML object>"
      ]
     },
     "metadata": {},
     "output_type": "display_data"
    },
    {
     "name": "stderr",
     "output_type": "stream",
     "text": [
      "early stopping required metric_for_best_model, but did not find eval_accuracy so early stopping is disabled\n"
     ]
    },
    {
     "name": "stdout",
     "output_type": "stream",
     "text": [
      "📈 Results: Acc=0.8139, F1=0.8139\n"
     ]
    },
    {
     "data": {
      "text/html": [],
      "text/plain": [
       "<IPython.core.display.HTML object>"
      ]
     },
     "metadata": {},
     "output_type": "display_data"
    },
    {
     "data": {
      "text/html": [
       "<br>    <style><br>        .wandb-row {<br>            display: flex;<br>            flex-direction: row;<br>            flex-wrap: wrap;<br>            justify-content: flex-start;<br>            width: 100%;<br>        }<br>        .wandb-col {<br>            display: flex;<br>            flex-direction: column;<br>            flex-basis: 100%;<br>            flex: 1;<br>            padding: 10px;<br>        }<br>    </style><br><div class=\"wandb-row\"><div class=\"wandb-col\"><h3>Run history:</h3><br/><table class=\"wandb\"><tr><td>eval/accuracy</td><td>▁▇▇██████</td></tr><tr><td>eval/f1</td><td>▁▇▇██████</td></tr><tr><td>eval/f1_per_class_mean</td><td>▁▇▇██████</td></tr><tr><td>eval/loss</td><td>█▃▂▁▁▁▁▁▁</td></tr><tr><td>eval/precision</td><td>▁▇███████</td></tr><tr><td>eval/precision_per_class_mean</td><td>▁▇███████</td></tr><tr><td>eval/recall</td><td>▁▇▇██████</td></tr><tr><td>eval/recall_per_class_mean</td><td>▁▇▇██████</td></tr><tr><td>eval/runtime</td><td>▁▅▄▄▄▄▄▄█</td></tr><tr><td>eval/samples_per_second</td><td>█▄▅▅▅▅▅▅▁</td></tr><tr><td>eval/steps_per_second</td><td>█▄▅▅▅▅▅▅▁</td></tr><tr><td>iteration</td><td>▁</td></tr><tr><td>test/accuracy</td><td>▁▁</td></tr><tr><td>test/f1</td><td>▁▁</td></tr><tr><td>test/f1_per_class_mean</td><td>▁▁</td></tr><tr><td>test/loss</td><td>▁▁</td></tr><tr><td>test/precision</td><td>▁▁</td></tr><tr><td>test/precision_per_class_mean</td><td>▁▁</td></tr><tr><td>test/recall</td><td>▁▁</td></tr><tr><td>test/recall_per_class_mean</td><td>▁▁</td></tr><tr><td>test/runtime</td><td>█▁</td></tr><tr><td>test/samples_per_second</td><td>▁█</td></tr><tr><td>test/steps_per_second</td><td>▁█</td></tr><tr><td>test_accuracy</td><td>▁</td></tr><tr><td>test_f1</td><td>▁</td></tr><tr><td>test_precision</td><td>▁</td></tr><tr><td>test_recall</td><td>▁</td></tr><tr><td>total_train_steps</td><td>▁</td></tr><tr><td>train/epoch</td><td>▁▁▂▂▂▃▃▃▃▃▄▄▄▄▅▅▅▆▆▆▆▆▇▇▇█████</td></tr><tr><td>train/global_step</td><td>▁▁▂▂▂▃▃▃▃▃▄▄▄▄▅▅▅▆▆▆▆▆▇▇▇█████████████</td></tr><tr><td>train/grad_norm</td><td>▁▁▁▂▂▄ ▄▃▆▄▄▄▂▃▂█▂▃</td></tr><tr><td>train/learning_rate</td><td>▁▂▂▃▄▄▅▆▇▇████████▇</td></tr><tr><td>train/loss</td><td>███▇▄▃▂▂▂▂▂▂▁▂▁▁▁▁▁</td></tr><tr><td>train_runtime</td><td>▁</td></tr><tr><td>train_samples_per_second</td><td>▁</td></tr></table><br/></div><div class=\"wandb-col\"><h3>Run summary:</h3><br/><table class=\"wandb\"><tr><td>eval/accuracy</td><td>0.81387</td></tr><tr><td>eval/f1</td><td>0.81299</td></tr><tr><td>eval/f1_per_class_mean</td><td>0.81299</td></tr><tr><td>eval/loss</td><td>0.5843</td></tr><tr><td>eval/precision</td><td>0.81472</td></tr><tr><td>eval/precision_per_class_mean</td><td>0.81472</td></tr><tr><td>eval/recall</td><td>0.81387</td></tr><tr><td>eval/recall_per_class_mean</td><td>0.81387</td></tr><tr><td>eval/runtime</td><td>14.9241</td></tr><tr><td>eval/samples_per_second</td><td>125.636</td></tr><tr><td>eval/steps_per_second</td><td>7.907</td></tr><tr><td>iteration</td><td>1</td></tr><tr><td>test/accuracy</td><td>0.81387</td></tr><tr><td>test/f1</td><td>0.81385</td></tr><tr><td>test/f1_per_class_mean</td><td>0.81385</td></tr><tr><td>test/loss</td><td>0.57115</td></tr><tr><td>test/precision</td><td>0.81836</td></tr><tr><td>test/precision_per_class_mean</td><td>0.81836</td></tr><tr><td>test/recall</td><td>0.81387</td></tr><tr><td>test/recall_per_class_mean</td><td>0.81387</td></tr><tr><td>test/runtime</td><td>14.391</td></tr><tr><td>test/samples_per_second</td><td>130.29</td></tr><tr><td>test/steps_per_second</td><td>8.2</td></tr><tr><td>test_accuracy</td><td>0.81387</td></tr><tr><td>test_f1</td><td>0.81385</td></tr><tr><td>test_precision</td><td>0.81836</td></tr><tr><td>test_recall</td><td>0.81387</td></tr><tr><td>total_flos</td><td>3788375015196672.0</td></tr><tr><td>total_train_steps</td><td>900</td></tr><tr><td>train/epoch</td><td>1.64534</td></tr><tr><td>train/global_step</td><td>900</td></tr><tr><td>train/grad_norm</td><td>12.43485</td></tr><tr><td>train/learning_rate</td><td>2e-05</td></tr><tr><td>train/loss</td><td>0.5126</td></tr><tr><td>train_loss</td><td>0.76519</td></tr><tr><td>train_runtime</td><td>520.9428</td></tr><tr><td>train_samples_per_second</td><td>167.965</td></tr><tr><td>train_steps_per_second</td><td>10.5</td></tr></table><br/></div></div>"
      ],
      "text/plain": [
       "<IPython.core.display.HTML object>"
      ]
     },
     "metadata": {},
     "output_type": "display_data"
    },
    {
     "data": {
      "text/html": [
       " View run <strong style=\"color:#cdcd00\">iteration_1</strong> at: <a href='https://wandb.ai/andretiagosilva77-faculdade-de-engenharia-da-universidad/consumer-complaints-robustness/runs/4hl1xcez' target=\"_blank\">https://wandb.ai/andretiagosilva77-faculdade-de-engenharia-da-universidad/consumer-complaints-robustness/runs/4hl1xcez</a><br> View project at: <a href='https://wandb.ai/andretiagosilva77-faculdade-de-engenharia-da-universidad/consumer-complaints-robustness' target=\"_blank\">https://wandb.ai/andretiagosilva77-faculdade-de-engenharia-da-universidad/consumer-complaints-robustness</a><br>Synced 5 W&B file(s), 5 media file(s), 0 artifact file(s) and 0 other file(s)"
      ],
      "text/plain": [
       "<IPython.core.display.HTML object>"
      ]
     },
     "metadata": {},
     "output_type": "display_data"
    },
    {
     "data": {
      "text/html": [
       "Find logs at: <code>./wandb/run-20250523_205802-4hl1xcez/logs</code>"
      ],
      "text/plain": [
       "<IPython.core.display.HTML object>"
      ]
     },
     "metadata": {},
     "output_type": "display_data"
    },
    {
     "name": "stdout",
     "output_type": "stream",
     "text": [
      "✅ Iteration 1 completed!\n",
      "\n",
      "📋 ITERATION 2/5\n",
      "----------------------------------------\n",
      "🔄 Split 2: Train=8750, Val=1875, Test=1875\n",
      "   Train classes: {0: 1750, 1: 1750, 2: 1750, 3: 1750, 4: 1750}\n",
      "   Val classes: {0: 375, 1: 375, 2: 375, 3: 375, 4: 375}\n",
      "   Test classes: {0: 375, 1: 375, 2: 375, 3: 375, 4: 375}\n",
      "🤖 Loading model: roberta-base\n"
     ]
    },
    {
     "name": "stderr",
     "output_type": "stream",
     "text": [
      "Some weights of RobertaForSequenceClassification were not initialized from the model checkpoint at roberta-base and are newly initialized: ['classifier.dense.bias', 'classifier.dense.weight', 'classifier.out_proj.bias', 'classifier.out_proj.weight']\n",
      "You should probably TRAIN this model on a down-stream task to be able to use it for predictions and inference.\n"
     ]
    },
    {
     "name": "stdout",
     "output_type": "stream",
     "text": [
      "⚠️ No PEFT applied. Using full fine-tuning.\n",
      "\n",
      "🚀 Starting training for iteration 2...\n"
     ]
    },
    {
     "data": {
      "text/html": [
       "Tracking run with wandb version 0.19.11"
      ],
      "text/plain": [
       "<IPython.core.display.HTML object>"
      ]
     },
     "metadata": {},
     "output_type": "display_data"
    },
    {
     "data": {
      "text/html": [
       "Run data is saved locally in <code>/teamspace/studios/this_studio/consumer-complaint-transformer-classifier/wandb/run-20250523_210716-hdgsn3b5</code>"
      ],
      "text/plain": [
       "<IPython.core.display.HTML object>"
      ]
     },
     "metadata": {},
     "output_type": "display_data"
    },
    {
     "data": {
      "text/html": [
       "Syncing run <strong><a href='https://wandb.ai/andretiagosilva77-faculdade-de-engenharia-da-universidad/consumer-complaints-robustness/runs/hdgsn3b5' target=\"_blank\">iteration_2</a></strong> to <a href='https://wandb.ai/andretiagosilva77-faculdade-de-engenharia-da-universidad/consumer-complaints-robustness' target=\"_blank\">Weights & Biases</a> (<a href='https://wandb.me/developer-guide' target=\"_blank\">docs</a>)<br>"
      ],
      "text/plain": [
       "<IPython.core.display.HTML object>"
      ]
     },
     "metadata": {},
     "output_type": "display_data"
    },
    {
     "data": {
      "text/html": [
       " View project at <a href='https://wandb.ai/andretiagosilva77-faculdade-de-engenharia-da-universidad/consumer-complaints-robustness' target=\"_blank\">https://wandb.ai/andretiagosilva77-faculdade-de-engenharia-da-universidad/consumer-complaints-robustness</a>"
      ],
      "text/plain": [
       "<IPython.core.display.HTML object>"
      ]
     },
     "metadata": {},
     "output_type": "display_data"
    },
    {
     "data": {
      "text/html": [
       " View run at <a href='https://wandb.ai/andretiagosilva77-faculdade-de-engenharia-da-universidad/consumer-complaints-robustness/runs/hdgsn3b5' target=\"_blank\">https://wandb.ai/andretiagosilva77-faculdade-de-engenharia-da-universidad/consumer-complaints-robustness/runs/hdgsn3b5</a>"
      ],
      "text/plain": [
       "<IPython.core.display.HTML object>"
      ]
     },
     "metadata": {},
     "output_type": "display_data"
    },
    {
     "name": "stdout",
     "output_type": "stream",
     "text": [
      "   Training with 8750 samples...\n"
     ]
    },
    {
     "data": {
      "text/html": [
       "\n",
       "    <div>\n",
       "      \n",
       "      <progress value='1300' max='5470' style='width:300px; height:20px; vertical-align: middle;'></progress>\n",
       "      [1300/5470 12:39 < 40:39, 1.71 it/s, Epoch 2/10]\n",
       "    </div>\n",
       "    <table border=\"1\" class=\"dataframe\">\n",
       "  <thead>\n",
       " <tr style=\"text-align: left;\">\n",
       "      <th>Step</th>\n",
       "      <th>Training Loss</th>\n",
       "      <th>Validation Loss</th>\n",
       "      <th>Accuracy</th>\n",
       "      <th>F1</th>\n",
       "      <th>Precision</th>\n",
       "      <th>Recall</th>\n",
       "      <th>F1 Per Class Mean</th>\n",
       "      <th>Precision Per Class Mean</th>\n",
       "      <th>Recall Per Class Mean</th>\n",
       "    </tr>\n",
       "  </thead>\n",
       "  <tbody>\n",
       "    <tr>\n",
       "      <td>100</td>\n",
       "      <td>1.610900</td>\n",
       "      <td>1.604316</td>\n",
       "      <td>0.234133</td>\n",
       "      <td>0.123320</td>\n",
       "      <td>0.088660</td>\n",
       "      <td>0.234133</td>\n",
       "      <td>0.123320</td>\n",
       "      <td>0.088660</td>\n",
       "      <td>0.234133</td>\n",
       "    </tr>\n",
       "    <tr>\n",
       "      <td>200</td>\n",
       "      <td>1.144300</td>\n",
       "      <td>0.765146</td>\n",
       "      <td>0.757867</td>\n",
       "      <td>0.757073</td>\n",
       "      <td>0.757939</td>\n",
       "      <td>0.757867</td>\n",
       "      <td>0.757073</td>\n",
       "      <td>0.757939</td>\n",
       "      <td>0.757867</td>\n",
       "    </tr>\n",
       "    <tr>\n",
       "      <td>300</td>\n",
       "      <td>0.686200</td>\n",
       "      <td>0.608481</td>\n",
       "      <td>0.790400</td>\n",
       "      <td>0.787332</td>\n",
       "      <td>0.793393</td>\n",
       "      <td>0.790400</td>\n",
       "      <td>0.787332</td>\n",
       "      <td>0.793393</td>\n",
       "      <td>0.790400</td>\n",
       "    </tr>\n",
       "    <tr>\n",
       "      <td>400</td>\n",
       "      <td>0.598700</td>\n",
       "      <td>0.615605</td>\n",
       "      <td>0.789867</td>\n",
       "      <td>0.791939</td>\n",
       "      <td>0.800460</td>\n",
       "      <td>0.789867</td>\n",
       "      <td>0.791939</td>\n",
       "      <td>0.800460</td>\n",
       "      <td>0.789867</td>\n",
       "    </tr>\n",
       "    <tr>\n",
       "      <td>500</td>\n",
       "      <td>0.602800</td>\n",
       "      <td>0.634925</td>\n",
       "      <td>0.802667</td>\n",
       "      <td>0.802490</td>\n",
       "      <td>0.805545</td>\n",
       "      <td>0.802667</td>\n",
       "      <td>0.802490</td>\n",
       "      <td>0.805545</td>\n",
       "      <td>0.802667</td>\n",
       "    </tr>\n",
       "    <tr>\n",
       "      <td>600</td>\n",
       "      <td>0.549500</td>\n",
       "      <td>0.645611</td>\n",
       "      <td>0.800533</td>\n",
       "      <td>0.799913</td>\n",
       "      <td>0.811433</td>\n",
       "      <td>0.800533</td>\n",
       "      <td>0.799913</td>\n",
       "      <td>0.811433</td>\n",
       "      <td>0.800533</td>\n",
       "    </tr>\n",
       "    <tr>\n",
       "      <td>700</td>\n",
       "      <td>0.549400</td>\n",
       "      <td>0.592283</td>\n",
       "      <td>0.798933</td>\n",
       "      <td>0.796636</td>\n",
       "      <td>0.802356</td>\n",
       "      <td>0.798933</td>\n",
       "      <td>0.796636</td>\n",
       "      <td>0.802356</td>\n",
       "      <td>0.798933</td>\n",
       "    </tr>\n",
       "    <tr>\n",
       "      <td>800</td>\n",
       "      <td>0.477700</td>\n",
       "      <td>0.534317</td>\n",
       "      <td>0.832533</td>\n",
       "      <td>0.831316</td>\n",
       "      <td>0.832545</td>\n",
       "      <td>0.832533</td>\n",
       "      <td>0.831316</td>\n",
       "      <td>0.832545</td>\n",
       "      <td>0.832533</td>\n",
       "    </tr>\n",
       "    <tr>\n",
       "      <td>900</td>\n",
       "      <td>0.478000</td>\n",
       "      <td>0.506365</td>\n",
       "      <td>0.839467</td>\n",
       "      <td>0.838588</td>\n",
       "      <td>0.839401</td>\n",
       "      <td>0.839467</td>\n",
       "      <td>0.838588</td>\n",
       "      <td>0.839401</td>\n",
       "      <td>0.839467</td>\n",
       "    </tr>\n",
       "    <tr>\n",
       "      <td>1000</td>\n",
       "      <td>0.431900</td>\n",
       "      <td>0.488478</td>\n",
       "      <td>0.846933</td>\n",
       "      <td>0.846068</td>\n",
       "      <td>0.846531</td>\n",
       "      <td>0.846933</td>\n",
       "      <td>0.846068</td>\n",
       "      <td>0.846531</td>\n",
       "      <td>0.846933</td>\n",
       "    </tr>\n",
       "    <tr>\n",
       "      <td>1100</td>\n",
       "      <td>0.532000</td>\n",
       "      <td>0.515482</td>\n",
       "      <td>0.834133</td>\n",
       "      <td>0.834610</td>\n",
       "      <td>0.837630</td>\n",
       "      <td>0.834133</td>\n",
       "      <td>0.834610</td>\n",
       "      <td>0.837630</td>\n",
       "      <td>0.834133</td>\n",
       "    </tr>\n",
       "    <tr>\n",
       "      <td>1200</td>\n",
       "      <td>0.394800</td>\n",
       "      <td>0.551857</td>\n",
       "      <td>0.827733</td>\n",
       "      <td>0.828764</td>\n",
       "      <td>0.837835</td>\n",
       "      <td>0.827733</td>\n",
       "      <td>0.828764</td>\n",
       "      <td>0.837835</td>\n",
       "      <td>0.827733</td>\n",
       "    </tr>\n",
       "    <tr>\n",
       "      <td>1300</td>\n",
       "      <td>0.293100</td>\n",
       "      <td>0.552094</td>\n",
       "      <td>0.844800</td>\n",
       "      <td>0.844706</td>\n",
       "      <td>0.845994</td>\n",
       "      <td>0.844800</td>\n",
       "      <td>0.844706</td>\n",
       "      <td>0.845994</td>\n",
       "      <td>0.844800</td>\n",
       "    </tr>\n",
       "  </tbody>\n",
       "</table><p>"
      ],
      "text/plain": [
       "<IPython.core.display.HTML object>"
      ]
     },
     "metadata": {},
     "output_type": "display_data"
    },
    {
     "data": {
      "text/html": [],
      "text/plain": [
       "<IPython.core.display.HTML object>"
      ]
     },
     "metadata": {},
     "output_type": "display_data"
    },
    {
     "name": "stderr",
     "output_type": "stream",
     "text": [
      "early stopping required metric_for_best_model, but did not find eval_accuracy so early stopping is disabled\n"
     ]
    },
    {
     "name": "stdout",
     "output_type": "stream",
     "text": [
      "📈 Results: Acc=0.8363, F1=0.8360\n"
     ]
    },
    {
     "data": {
      "text/html": [],
      "text/plain": [
       "<IPython.core.display.HTML object>"
      ]
     },
     "metadata": {},
     "output_type": "display_data"
    },
    {
     "data": {
      "text/html": [
       "<br>    <style><br>        .wandb-row {<br>            display: flex;<br>            flex-direction: row;<br>            flex-wrap: wrap;<br>            justify-content: flex-start;<br>            width: 100%;<br>        }<br>        .wandb-col {<br>            display: flex;<br>            flex-direction: column;<br>            flex-basis: 100%;<br>            flex: 1;<br>            padding: 10px;<br>        }<br>    </style><br><div class=\"wandb-row\"><div class=\"wandb-col\"><h3>Run history:</h3><br/><table class=\"wandb\"><tr><td>eval/accuracy</td><td>▁▇▇▇▇▇▇██████</td></tr><tr><td>eval/f1</td><td>▁▇▇▇█████████</td></tr><tr><td>eval/f1_per_class_mean</td><td>▁▇▇▇█████████</td></tr><tr><td>eval/loss</td><td>█▃▂▂▂▂▂▁▁▁▁▁▁</td></tr><tr><td>eval/precision</td><td>▁▇███████████</td></tr><tr><td>eval/precision_per_class_mean</td><td>▁▇███████████</td></tr><tr><td>eval/recall</td><td>▁▇▇▇▇▇▇██████</td></tr><tr><td>eval/recall_per_class_mean</td><td>▁▇▇▇▇▇▇██████</td></tr><tr><td>eval/runtime</td><td>▁▅▂▃▂▆▁▅▄█▂▁▂</td></tr><tr><td>eval/samples_per_second</td><td>█▄▇▆▇▃█▄▅▁▇█▇</td></tr><tr><td>eval/steps_per_second</td><td>█▄▇▆▇▃█▄▅▁▇█▇</td></tr><tr><td>iteration</td><td>▁</td></tr><tr><td>test/accuracy</td><td>▁▁</td></tr><tr><td>test/f1</td><td>▁▁</td></tr><tr><td>test/f1_per_class_mean</td><td>▁▁</td></tr><tr><td>test/loss</td><td>▁▁</td></tr><tr><td>test/precision</td><td>▁▁</td></tr><tr><td>test/precision_per_class_mean</td><td>▁▁</td></tr><tr><td>test/recall</td><td>▁▁</td></tr><tr><td>test/recall_per_class_mean</td><td>▁▁</td></tr><tr><td>test/runtime</td><td>▁█</td></tr><tr><td>test/samples_per_second</td><td>█▁</td></tr><tr><td>test/steps_per_second</td><td>█▁</td></tr><tr><td>test_accuracy</td><td>▁</td></tr><tr><td>test_f1</td><td>▁</td></tr><tr><td>test_precision</td><td>▁</td></tr><tr><td>test_recall</td><td>▁</td></tr><tr><td>total_train_steps</td><td>▁</td></tr><tr><td>train/epoch</td><td>▁▁▂▂▂▂▂▂▃▃▃▃▃▃▄▄▄▄▄▄▅▅▅▅▆▆▆▆▆▆▇▇▇▇▇▇████</td></tr><tr><td>train/global_step</td><td>▁▂▂▂▂▂▃▃▃▃▄▄▄▄▄▅▅▅▅▅▆▆▆▆▆▇▇▇▇▇██████████</td></tr><tr><td>train/grad_norm</td><td>▁▁▁▂▄▆▃█▂▅▃▂▄▃▅█▃▅▃▅▄▅▅▃▅▃▇</td></tr><tr><td>train/learning_rate</td><td>▁▂▂▃▄▄▅▆▇▇████████▇▇▇▇▇▇▇▇▇</td></tr><tr><td>train/loss</td><td>████▆▄▃▃▃▃▃▂▂▂▂▂▂▂▂▂▂▂▂▁▂▁▁</td></tr><tr><td>train_runtime</td><td>▁</td></tr><tr><td>train_samples_per_second</td><td>▁</td></tr></table><br/></div><div class=\"wandb-col\"><h3>Run summary:</h3><br/><table class=\"wandb\"><tr><td>eval/accuracy</td><td>0.8448</td></tr><tr><td>eval/f1</td><td>0.84471</td></tr><tr><td>eval/f1_per_class_mean</td><td>0.84471</td></tr><tr><td>eval/loss</td><td>0.55209</td></tr><tr><td>eval/precision</td><td>0.84599</td></tr><tr><td>eval/precision_per_class_mean</td><td>0.84599</td></tr><tr><td>eval/recall</td><td>0.8448</td></tr><tr><td>eval/recall_per_class_mean</td><td>0.8448</td></tr><tr><td>eval/runtime</td><td>14.5973</td></tr><tr><td>eval/samples_per_second</td><td>128.448</td></tr><tr><td>eval/steps_per_second</td><td>8.084</td></tr><tr><td>iteration</td><td>2</td></tr><tr><td>test/accuracy</td><td>0.83627</td></tr><tr><td>test/f1</td><td>0.83598</td></tr><tr><td>test/f1_per_class_mean</td><td>0.83598</td></tr><tr><td>test/loss</td><td>0.50952</td></tr><tr><td>test/precision</td><td>0.83603</td></tr><tr><td>test/precision_per_class_mean</td><td>0.83603</td></tr><tr><td>test/recall</td><td>0.83627</td></tr><tr><td>test/recall_per_class_mean</td><td>0.83627</td></tr><tr><td>test/runtime</td><td>14.5949</td></tr><tr><td>test/samples_per_second</td><td>128.47</td></tr><tr><td>test/steps_per_second</td><td>8.085</td></tr><tr><td>test_accuracy</td><td>0.83627</td></tr><tr><td>test_f1</td><td>0.83598</td></tr><tr><td>test_precision</td><td>0.83603</td></tr><tr><td>test_recall</td><td>0.83627</td></tr><tr><td>total_flos</td><td>5471804890681344.0</td></tr><tr><td>total_train_steps</td><td>1300</td></tr><tr><td>train/epoch</td><td>2.3766</td></tr><tr><td>train/global_step</td><td>1300</td></tr><tr><td>train/grad_norm</td><td>25.35027</td></tr><tr><td>train/learning_rate</td><td>2e-05</td></tr><tr><td>train/loss</td><td>0.2931</td></tr><tr><td>train_loss</td><td>0.6698</td></tr><tr><td>train_runtime</td><td>759.7441</td></tr><tr><td>train_samples_per_second</td><td>115.17</td></tr><tr><td>train_steps_per_second</td><td>7.2</td></tr></table><br/></div></div>"
      ],
      "text/plain": [
       "<IPython.core.display.HTML object>"
      ]
     },
     "metadata": {},
     "output_type": "display_data"
    },
    {
     "data": {
      "text/html": [
       " View run <strong style=\"color:#cdcd00\">iteration_2</strong> at: <a href='https://wandb.ai/andretiagosilva77-faculdade-de-engenharia-da-universidad/consumer-complaints-robustness/runs/hdgsn3b5' target=\"_blank\">https://wandb.ai/andretiagosilva77-faculdade-de-engenharia-da-universidad/consumer-complaints-robustness/runs/hdgsn3b5</a><br> View project at: <a href='https://wandb.ai/andretiagosilva77-faculdade-de-engenharia-da-universidad/consumer-complaints-robustness' target=\"_blank\">https://wandb.ai/andretiagosilva77-faculdade-de-engenharia-da-universidad/consumer-complaints-robustness</a><br>Synced 5 W&B file(s), 5 media file(s), 0 artifact file(s) and 0 other file(s)"
      ],
      "text/plain": [
       "<IPython.core.display.HTML object>"
      ]
     },
     "metadata": {},
     "output_type": "display_data"
    },
    {
     "data": {
      "text/html": [
       "Find logs at: <code>./wandb/run-20250523_210716-hdgsn3b5/logs</code>"
      ],
      "text/plain": [
       "<IPython.core.display.HTML object>"
      ]
     },
     "metadata": {},
     "output_type": "display_data"
    },
    {
     "name": "stdout",
     "output_type": "stream",
     "text": [
      "✅ Iteration 2 completed!\n",
      "\n",
      "📋 ITERATION 3/5\n",
      "----------------------------------------\n",
      "🔄 Split 3: Train=8750, Val=1875, Test=1875\n",
      "   Train classes: {0: 1750, 1: 1750, 2: 1750, 3: 1750, 4: 1750}\n",
      "   Val classes: {0: 375, 1: 375, 2: 375, 3: 375, 4: 375}\n",
      "   Test classes: {0: 375, 1: 375, 2: 375, 3: 375, 4: 375}\n",
      "🤖 Loading model: roberta-base\n"
     ]
    },
    {
     "name": "stderr",
     "output_type": "stream",
     "text": [
      "Some weights of RobertaForSequenceClassification were not initialized from the model checkpoint at roberta-base and are newly initialized: ['classifier.dense.bias', 'classifier.dense.weight', 'classifier.out_proj.bias', 'classifier.out_proj.weight']\n",
      "You should probably TRAIN this model on a down-stream task to be able to use it for predictions and inference.\n"
     ]
    },
    {
     "name": "stdout",
     "output_type": "stream",
     "text": [
      "⚠️ No PEFT applied. Using full fine-tuning.\n",
      "\n",
      "🚀 Starting training for iteration 3...\n"
     ]
    },
    {
     "data": {
      "text/html": [
       "Tracking run with wandb version 0.19.11"
      ],
      "text/plain": [
       "<IPython.core.display.HTML object>"
      ]
     },
     "metadata": {},
     "output_type": "display_data"
    },
    {
     "data": {
      "text/html": [
       "Run data is saved locally in <code>/teamspace/studios/this_studio/consumer-complaint-transformer-classifier/wandb/run-20250523_212029-92pltp49</code>"
      ],
      "text/plain": [
       "<IPython.core.display.HTML object>"
      ]
     },
     "metadata": {},
     "output_type": "display_data"
    },
    {
     "data": {
      "text/html": [
       "Syncing run <strong><a href='https://wandb.ai/andretiagosilva77-faculdade-de-engenharia-da-universidad/consumer-complaints-robustness/runs/92pltp49' target=\"_blank\">iteration_3</a></strong> to <a href='https://wandb.ai/andretiagosilva77-faculdade-de-engenharia-da-universidad/consumer-complaints-robustness' target=\"_blank\">Weights & Biases</a> (<a href='https://wandb.me/developer-guide' target=\"_blank\">docs</a>)<br>"
      ],
      "text/plain": [
       "<IPython.core.display.HTML object>"
      ]
     },
     "metadata": {},
     "output_type": "display_data"
    },
    {
     "data": {
      "text/html": [
       " View project at <a href='https://wandb.ai/andretiagosilva77-faculdade-de-engenharia-da-universidad/consumer-complaints-robustness' target=\"_blank\">https://wandb.ai/andretiagosilva77-faculdade-de-engenharia-da-universidad/consumer-complaints-robustness</a>"
      ],
      "text/plain": [
       "<IPython.core.display.HTML object>"
      ]
     },
     "metadata": {},
     "output_type": "display_data"
    },
    {
     "data": {
      "text/html": [
       " View run at <a href='https://wandb.ai/andretiagosilva77-faculdade-de-engenharia-da-universidad/consumer-complaints-robustness/runs/92pltp49' target=\"_blank\">https://wandb.ai/andretiagosilva77-faculdade-de-engenharia-da-universidad/consumer-complaints-robustness/runs/92pltp49</a>"
      ],
      "text/plain": [
       "<IPython.core.display.HTML object>"
      ]
     },
     "metadata": {},
     "output_type": "display_data"
    },
    {
     "name": "stdout",
     "output_type": "stream",
     "text": [
      "   Training with 8750 samples...\n"
     ]
    },
    {
     "data": {
      "text/html": [
       "\n",
       "    <div>\n",
       "      \n",
       "      <progress value='1800' max='5470' style='width:300px; height:20px; vertical-align: middle;'></progress>\n",
       "      [1800/5470 17:32 < 35:48, 1.71 it/s, Epoch 3/10]\n",
       "    </div>\n",
       "    <table border=\"1\" class=\"dataframe\">\n",
       "  <thead>\n",
       " <tr style=\"text-align: left;\">\n",
       "      <th>Step</th>\n",
       "      <th>Training Loss</th>\n",
       "      <th>Validation Loss</th>\n",
       "      <th>Accuracy</th>\n",
       "      <th>F1</th>\n",
       "      <th>Precision</th>\n",
       "      <th>Recall</th>\n",
       "      <th>F1 Per Class Mean</th>\n",
       "      <th>Precision Per Class Mean</th>\n",
       "      <th>Recall Per Class Mean</th>\n",
       "    </tr>\n",
       "  </thead>\n",
       "  <tbody>\n",
       "    <tr>\n",
       "      <td>100</td>\n",
       "      <td>1.610700</td>\n",
       "      <td>1.599838</td>\n",
       "      <td>0.354667</td>\n",
       "      <td>0.274962</td>\n",
       "      <td>0.275933</td>\n",
       "      <td>0.354667</td>\n",
       "      <td>0.274962</td>\n",
       "      <td>0.275933</td>\n",
       "      <td>0.354667</td>\n",
       "    </tr>\n",
       "    <tr>\n",
       "      <td>200</td>\n",
       "      <td>1.045700</td>\n",
       "      <td>0.744238</td>\n",
       "      <td>0.774933</td>\n",
       "      <td>0.773966</td>\n",
       "      <td>0.787479</td>\n",
       "      <td>0.774933</td>\n",
       "      <td>0.773966</td>\n",
       "      <td>0.787479</td>\n",
       "      <td>0.774933</td>\n",
       "    </tr>\n",
       "    <tr>\n",
       "      <td>300</td>\n",
       "      <td>0.673700</td>\n",
       "      <td>0.583061</td>\n",
       "      <td>0.815467</td>\n",
       "      <td>0.815947</td>\n",
       "      <td>0.819200</td>\n",
       "      <td>0.815467</td>\n",
       "      <td>0.815947</td>\n",
       "      <td>0.819200</td>\n",
       "      <td>0.815467</td>\n",
       "    </tr>\n",
       "    <tr>\n",
       "      <td>400</td>\n",
       "      <td>0.566100</td>\n",
       "      <td>0.578454</td>\n",
       "      <td>0.813333</td>\n",
       "      <td>0.812516</td>\n",
       "      <td>0.820630</td>\n",
       "      <td>0.813333</td>\n",
       "      <td>0.812516</td>\n",
       "      <td>0.820630</td>\n",
       "      <td>0.813333</td>\n",
       "    </tr>\n",
       "    <tr>\n",
       "      <td>500</td>\n",
       "      <td>0.610100</td>\n",
       "      <td>0.529899</td>\n",
       "      <td>0.829867</td>\n",
       "      <td>0.830069</td>\n",
       "      <td>0.831553</td>\n",
       "      <td>0.829867</td>\n",
       "      <td>0.830069</td>\n",
       "      <td>0.831553</td>\n",
       "      <td>0.829867</td>\n",
       "    </tr>\n",
       "    <tr>\n",
       "      <td>600</td>\n",
       "      <td>0.558200</td>\n",
       "      <td>0.611057</td>\n",
       "      <td>0.796800</td>\n",
       "      <td>0.800661</td>\n",
       "      <td>0.825582</td>\n",
       "      <td>0.796800</td>\n",
       "      <td>0.800661</td>\n",
       "      <td>0.825582</td>\n",
       "      <td>0.796800</td>\n",
       "    </tr>\n",
       "    <tr>\n",
       "      <td>700</td>\n",
       "      <td>0.513300</td>\n",
       "      <td>0.585111</td>\n",
       "      <td>0.816000</td>\n",
       "      <td>0.816471</td>\n",
       "      <td>0.829629</td>\n",
       "      <td>0.816000</td>\n",
       "      <td>0.816471</td>\n",
       "      <td>0.829629</td>\n",
       "      <td>0.816000</td>\n",
       "    </tr>\n",
       "    <tr>\n",
       "      <td>800</td>\n",
       "      <td>0.476900</td>\n",
       "      <td>0.503373</td>\n",
       "      <td>0.838933</td>\n",
       "      <td>0.839376</td>\n",
       "      <td>0.846144</td>\n",
       "      <td>0.838933</td>\n",
       "      <td>0.839376</td>\n",
       "      <td>0.846144</td>\n",
       "      <td>0.838933</td>\n",
       "    </tr>\n",
       "    <tr>\n",
       "      <td>900</td>\n",
       "      <td>0.493700</td>\n",
       "      <td>0.495821</td>\n",
       "      <td>0.836800</td>\n",
       "      <td>0.836154</td>\n",
       "      <td>0.839482</td>\n",
       "      <td>0.836800</td>\n",
       "      <td>0.836154</td>\n",
       "      <td>0.839482</td>\n",
       "      <td>0.836800</td>\n",
       "    </tr>\n",
       "    <tr>\n",
       "      <td>1000</td>\n",
       "      <td>0.479000</td>\n",
       "      <td>0.489456</td>\n",
       "      <td>0.842667</td>\n",
       "      <td>0.843322</td>\n",
       "      <td>0.850117</td>\n",
       "      <td>0.842667</td>\n",
       "      <td>0.843322</td>\n",
       "      <td>0.850117</td>\n",
       "      <td>0.842667</td>\n",
       "    </tr>\n",
       "    <tr>\n",
       "      <td>1100</td>\n",
       "      <td>0.462400</td>\n",
       "      <td>0.523584</td>\n",
       "      <td>0.835733</td>\n",
       "      <td>0.837256</td>\n",
       "      <td>0.843958</td>\n",
       "      <td>0.835733</td>\n",
       "      <td>0.837256</td>\n",
       "      <td>0.843958</td>\n",
       "      <td>0.835733</td>\n",
       "    </tr>\n",
       "    <tr>\n",
       "      <td>1200</td>\n",
       "      <td>0.414400</td>\n",
       "      <td>0.459193</td>\n",
       "      <td>0.861867</td>\n",
       "      <td>0.862113</td>\n",
       "      <td>0.863099</td>\n",
       "      <td>0.861867</td>\n",
       "      <td>0.862113</td>\n",
       "      <td>0.863099</td>\n",
       "      <td>0.861867</td>\n",
       "    </tr>\n",
       "    <tr>\n",
       "      <td>1300</td>\n",
       "      <td>0.336200</td>\n",
       "      <td>0.490682</td>\n",
       "      <td>0.852800</td>\n",
       "      <td>0.852751</td>\n",
       "      <td>0.852860</td>\n",
       "      <td>0.852800</td>\n",
       "      <td>0.852751</td>\n",
       "      <td>0.852860</td>\n",
       "      <td>0.852800</td>\n",
       "    </tr>\n",
       "    <tr>\n",
       "      <td>1400</td>\n",
       "      <td>0.390300</td>\n",
       "      <td>0.474418</td>\n",
       "      <td>0.849067</td>\n",
       "      <td>0.848982</td>\n",
       "      <td>0.853997</td>\n",
       "      <td>0.849067</td>\n",
       "      <td>0.848982</td>\n",
       "      <td>0.853997</td>\n",
       "      <td>0.849067</td>\n",
       "    </tr>\n",
       "    <tr>\n",
       "      <td>1500</td>\n",
       "      <td>0.405200</td>\n",
       "      <td>0.457825</td>\n",
       "      <td>0.864533</td>\n",
       "      <td>0.864486</td>\n",
       "      <td>0.865928</td>\n",
       "      <td>0.864533</td>\n",
       "      <td>0.864486</td>\n",
       "      <td>0.865928</td>\n",
       "      <td>0.864533</td>\n",
       "    </tr>\n",
       "    <tr>\n",
       "      <td>1600</td>\n",
       "      <td>0.364800</td>\n",
       "      <td>0.489625</td>\n",
       "      <td>0.857067</td>\n",
       "      <td>0.856760</td>\n",
       "      <td>0.857822</td>\n",
       "      <td>0.857067</td>\n",
       "      <td>0.856760</td>\n",
       "      <td>0.857822</td>\n",
       "      <td>0.857067</td>\n",
       "    </tr>\n",
       "    <tr>\n",
       "      <td>1700</td>\n",
       "      <td>0.214300</td>\n",
       "      <td>0.549267</td>\n",
       "      <td>0.849067</td>\n",
       "      <td>0.849983</td>\n",
       "      <td>0.853456</td>\n",
       "      <td>0.849067</td>\n",
       "      <td>0.849983</td>\n",
       "      <td>0.853456</td>\n",
       "      <td>0.849067</td>\n",
       "    </tr>\n",
       "    <tr>\n",
       "      <td>1800</td>\n",
       "      <td>0.295700</td>\n",
       "      <td>0.575026</td>\n",
       "      <td>0.851733</td>\n",
       "      <td>0.850887</td>\n",
       "      <td>0.852199</td>\n",
       "      <td>0.851733</td>\n",
       "      <td>0.850887</td>\n",
       "      <td>0.852199</td>\n",
       "      <td>0.851733</td>\n",
       "    </tr>\n",
       "  </tbody>\n",
       "</table><p>"
      ],
      "text/plain": [
       "<IPython.core.display.HTML object>"
      ]
     },
     "metadata": {},
     "output_type": "display_data"
    },
    {
     "data": {
      "text/html": [],
      "text/plain": [
       "<IPython.core.display.HTML object>"
      ]
     },
     "metadata": {},
     "output_type": "display_data"
    },
    {
     "name": "stderr",
     "output_type": "stream",
     "text": [
      "early stopping required metric_for_best_model, but did not find eval_accuracy so early stopping is disabled\n"
     ]
    },
    {
     "name": "stdout",
     "output_type": "stream",
     "text": [
      "📈 Results: Acc=0.8379, F1=0.8380\n"
     ]
    },
    {
     "data": {
      "text/html": [],
      "text/plain": [
       "<IPython.core.display.HTML object>"
      ]
     },
     "metadata": {},
     "output_type": "display_data"
    },
    {
     "data": {
      "text/html": [
       "<br>    <style><br>        .wandb-row {<br>            display: flex;<br>            flex-direction: row;<br>            flex-wrap: wrap;<br>            justify-content: flex-start;<br>            width: 100%;<br>        }<br>        .wandb-col {<br>            display: flex;<br>            flex-direction: column;<br>            flex-basis: 100%;<br>            flex: 1;<br>            padding: 10px;<br>        }<br>    </style><br><div class=\"wandb-row\"><div class=\"wandb-col\"><h3>Run history:</h3><br/><table class=\"wandb\"><tr><td>eval/accuracy</td><td>▁▇▇▇█▇▇███████████</td></tr><tr><td>eval/f1</td><td>▁▇▇▇█▇▇███████████</td></tr><tr><td>eval/f1_per_class_mean</td><td>▁▇▇▇█▇▇███████████</td></tr><tr><td>eval/loss</td><td>█▃▂▂▁▂▂▁▁▁▁▁▁▁▁▁▂▂</td></tr><tr><td>eval/precision</td><td>▁▇▇▇██████████████</td></tr><tr><td>eval/precision_per_class_mean</td><td>▁▇▇▇██████████████</td></tr><tr><td>eval/recall</td><td>▁▇▇▇█▇▇███████████</td></tr><tr><td>eval/recall_per_class_mean</td><td>▁▇▇▇█▇▇███████████</td></tr><tr><td>eval/runtime</td><td>▄█▆▅▄▅▆█▇▆█▃▅▁▄▆▇█</td></tr><tr><td>eval/samples_per_second</td><td>▅▁▃▄▅▄▃▁▂▃▁▆▄█▅▃▂▁</td></tr><tr><td>eval/steps_per_second</td><td>▅▁▃▄▅▄▃▁▂▃▁▆▄█▅▃▂▁</td></tr><tr><td>iteration</td><td>▁</td></tr><tr><td>test/accuracy</td><td>▁▁</td></tr><tr><td>test/f1</td><td>▁▁</td></tr><tr><td>test/f1_per_class_mean</td><td>▁▁</td></tr><tr><td>test/loss</td><td>▁▁</td></tr><tr><td>test/precision</td><td>▁▁</td></tr><tr><td>test/precision_per_class_mean</td><td>▁▁</td></tr><tr><td>test/recall</td><td>▁▁</td></tr><tr><td>test/recall_per_class_mean</td><td>▁▁</td></tr><tr><td>test/runtime</td><td>▁█</td></tr><tr><td>test/samples_per_second</td><td>█▁</td></tr><tr><td>test/steps_per_second</td><td>█▁</td></tr><tr><td>test_accuracy</td><td>▁</td></tr><tr><td>test_f1</td><td>▁</td></tr><tr><td>test_precision</td><td>▁</td></tr><tr><td>test_recall</td><td>▁</td></tr><tr><td>total_train_steps</td><td>▁</td></tr><tr><td>train/epoch</td><td>▁▁▁▁▂▂▂▂▃▃▃▃▃▄▄▄▄▄▄▄▅▅▅▅▅▆▆▆▆▆▇▇▇▇▇▇████</td></tr><tr><td>train/global_step</td><td>▁▁▁▂▂▂▂▂▃▃▃▄▄▄▄▄▄▄▅▅▅▅▆▆▆▆▇▇▇▇██████████</td></tr><tr><td>train/grad_norm</td><td>▁▁▁▂▃▂▃▄▅▄▃▂▃▂▃▃▃▄▂▂▄▃▂▂▂▃▄▄▃▃▃█▄▂▄▂▄</td></tr><tr><td>train/learning_rate</td><td>▁▂▂▃▄▄▅▆▇▇████████▇▇▇▇▇▇▇▇▇▇▇▇▇▇▆▆▆▆▆</td></tr><tr><td>train/loss</td><td>████▅▃▃▃▃▃▃▃▃▂▂▃▂▂▂▃▂▂▂▂▂▂▂▂▂▂▂▂▂▂▁▁▁</td></tr><tr><td>train_runtime</td><td>▁</td></tr><tr><td>train_samples_per_second</td><td>▁</td></tr></table><br/></div><div class=\"wandb-col\"><h3>Run summary:</h3><br/><table class=\"wandb\"><tr><td>eval/accuracy</td><td>0.85173</td></tr><tr><td>eval/f1</td><td>0.85089</td></tr><tr><td>eval/f1_per_class_mean</td><td>0.85089</td></tr><tr><td>eval/loss</td><td>0.57503</td></tr><tr><td>eval/precision</td><td>0.8522</td></tr><tr><td>eval/precision_per_class_mean</td><td>0.8522</td></tr><tr><td>eval/recall</td><td>0.85173</td></tr><tr><td>eval/recall_per_class_mean</td><td>0.85173</td></tr><tr><td>eval/runtime</td><td>14.7015</td></tr><tr><td>eval/samples_per_second</td><td>127.538</td></tr><tr><td>eval/steps_per_second</td><td>8.026</td></tr><tr><td>iteration</td><td>3</td></tr><tr><td>test/accuracy</td><td>0.83787</td></tr><tr><td>test/f1</td><td>0.83801</td></tr><tr><td>test/f1_per_class_mean</td><td>0.83801</td></tr><tr><td>test/loss</td><td>0.52686</td></tr><tr><td>test/precision</td><td>0.83951</td></tr><tr><td>test/precision_per_class_mean</td><td>0.83951</td></tr><tr><td>test/recall</td><td>0.83787</td></tr><tr><td>test/recall_per_class_mean</td><td>0.83787</td></tr><tr><td>test/runtime</td><td>15.0055</td></tr><tr><td>test/samples_per_second</td><td>124.954</td></tr><tr><td>test/steps_per_second</td><td>7.864</td></tr><tr><td>test_accuracy</td><td>0.83787</td></tr><tr><td>test_f1</td><td>0.83801</td></tr><tr><td>test_precision</td><td>0.83951</td></tr><tr><td>test_recall</td><td>0.83787</td></tr><tr><td>total_flos</td><td>7576223794108416.0</td></tr><tr><td>total_train_steps</td><td>1800</td></tr><tr><td>train/epoch</td><td>3.29068</td></tr><tr><td>train/global_step</td><td>1800</td></tr><tr><td>train/grad_norm</td><td>23.67533</td></tr><tr><td>train/learning_rate</td><td>1e-05</td></tr><tr><td>train/loss</td><td>0.2957</td></tr><tr><td>train_loss</td><td>0.57626</td></tr><tr><td>train_runtime</td><td>1053.1351</td></tr><tr><td>train_samples_per_second</td><td>83.085</td></tr><tr><td>train_steps_per_second</td><td>5.194</td></tr></table><br/></div></div>"
      ],
      "text/plain": [
       "<IPython.core.display.HTML object>"
      ]
     },
     "metadata": {},
     "output_type": "display_data"
    },
    {
     "data": {
      "text/html": [
       " View run <strong style=\"color:#cdcd00\">iteration_3</strong> at: <a href='https://wandb.ai/andretiagosilva77-faculdade-de-engenharia-da-universidad/consumer-complaints-robustness/runs/92pltp49' target=\"_blank\">https://wandb.ai/andretiagosilva77-faculdade-de-engenharia-da-universidad/consumer-complaints-robustness/runs/92pltp49</a><br> View project at: <a href='https://wandb.ai/andretiagosilva77-faculdade-de-engenharia-da-universidad/consumer-complaints-robustness' target=\"_blank\">https://wandb.ai/andretiagosilva77-faculdade-de-engenharia-da-universidad/consumer-complaints-robustness</a><br>Synced 5 W&B file(s), 5 media file(s), 0 artifact file(s) and 0 other file(s)"
      ],
      "text/plain": [
       "<IPython.core.display.HTML object>"
      ]
     },
     "metadata": {},
     "output_type": "display_data"
    },
    {
     "data": {
      "text/html": [
       "Find logs at: <code>./wandb/run-20250523_212029-92pltp49/logs</code>"
      ],
      "text/plain": [
       "<IPython.core.display.HTML object>"
      ]
     },
     "metadata": {},
     "output_type": "display_data"
    },
    {
     "name": "stdout",
     "output_type": "stream",
     "text": [
      "✅ Iteration 3 completed!\n",
      "\n",
      "📋 ITERATION 4/5\n",
      "----------------------------------------\n",
      "🔄 Split 4: Train=8750, Val=1875, Test=1875\n",
      "   Train classes: {0: 1750, 1: 1750, 2: 1750, 3: 1750, 4: 1750}\n",
      "   Val classes: {0: 375, 1: 375, 2: 375, 3: 375, 4: 375}\n",
      "   Test classes: {0: 375, 1: 375, 2: 375, 3: 375, 4: 375}\n",
      "🤖 Loading model: roberta-base\n"
     ]
    },
    {
     "name": "stderr",
     "output_type": "stream",
     "text": [
      "Some weights of RobertaForSequenceClassification were not initialized from the model checkpoint at roberta-base and are newly initialized: ['classifier.dense.bias', 'classifier.dense.weight', 'classifier.out_proj.bias', 'classifier.out_proj.weight']\n",
      "You should probably TRAIN this model on a down-stream task to be able to use it for predictions and inference.\n"
     ]
    },
    {
     "name": "stdout",
     "output_type": "stream",
     "text": [
      "⚠️ No PEFT applied. Using full fine-tuning.\n",
      "\n",
      "🚀 Starting training for iteration 4...\n"
     ]
    },
    {
     "data": {
      "text/html": [
       "Tracking run with wandb version 0.19.11"
      ],
      "text/plain": [
       "<IPython.core.display.HTML object>"
      ]
     },
     "metadata": {},
     "output_type": "display_data"
    },
    {
     "data": {
      "text/html": [
       "Run data is saved locally in <code>/teamspace/studios/this_studio/consumer-complaint-transformer-classifier/wandb/run-20250523_213835-1k6xmogj</code>"
      ],
      "text/plain": [
       "<IPython.core.display.HTML object>"
      ]
     },
     "metadata": {},
     "output_type": "display_data"
    },
    {
     "data": {
      "text/html": [
       "Syncing run <strong><a href='https://wandb.ai/andretiagosilva77-faculdade-de-engenharia-da-universidad/consumer-complaints-robustness/runs/1k6xmogj' target=\"_blank\">iteration_4</a></strong> to <a href='https://wandb.ai/andretiagosilva77-faculdade-de-engenharia-da-universidad/consumer-complaints-robustness' target=\"_blank\">Weights & Biases</a> (<a href='https://wandb.me/developer-guide' target=\"_blank\">docs</a>)<br>"
      ],
      "text/plain": [
       "<IPython.core.display.HTML object>"
      ]
     },
     "metadata": {},
     "output_type": "display_data"
    },
    {
     "data": {
      "text/html": [
       " View project at <a href='https://wandb.ai/andretiagosilva77-faculdade-de-engenharia-da-universidad/consumer-complaints-robustness' target=\"_blank\">https://wandb.ai/andretiagosilva77-faculdade-de-engenharia-da-universidad/consumer-complaints-robustness</a>"
      ],
      "text/plain": [
       "<IPython.core.display.HTML object>"
      ]
     },
     "metadata": {},
     "output_type": "display_data"
    },
    {
     "data": {
      "text/html": [
       " View run at <a href='https://wandb.ai/andretiagosilva77-faculdade-de-engenharia-da-universidad/consumer-complaints-robustness/runs/1k6xmogj' target=\"_blank\">https://wandb.ai/andretiagosilva77-faculdade-de-engenharia-da-universidad/consumer-complaints-robustness/runs/1k6xmogj</a>"
      ],
      "text/plain": [
       "<IPython.core.display.HTML object>"
      ]
     },
     "metadata": {},
     "output_type": "display_data"
    },
    {
     "name": "stdout",
     "output_type": "stream",
     "text": [
      "   Training with 8750 samples...\n"
     ]
    },
    {
     "data": {
      "text/html": [
       "\n",
       "    <div>\n",
       "      \n",
       "      <progress value='1900' max='5470' style='width:300px; height:20px; vertical-align: middle;'></progress>\n",
       "      [1900/5470 18:31 < 34:50, 1.71 it/s, Epoch 3/10]\n",
       "    </div>\n",
       "    <table border=\"1\" class=\"dataframe\">\n",
       "  <thead>\n",
       " <tr style=\"text-align: left;\">\n",
       "      <th>Step</th>\n",
       "      <th>Training Loss</th>\n",
       "      <th>Validation Loss</th>\n",
       "      <th>Accuracy</th>\n",
       "      <th>F1</th>\n",
       "      <th>Precision</th>\n",
       "      <th>Recall</th>\n",
       "      <th>F1 Per Class Mean</th>\n",
       "      <th>Precision Per Class Mean</th>\n",
       "      <th>Recall Per Class Mean</th>\n",
       "    </tr>\n",
       "  </thead>\n",
       "  <tbody>\n",
       "    <tr>\n",
       "      <td>100</td>\n",
       "      <td>1.608500</td>\n",
       "      <td>1.604973</td>\n",
       "      <td>0.200000</td>\n",
       "      <td>0.066667</td>\n",
       "      <td>0.040000</td>\n",
       "      <td>0.200000</td>\n",
       "      <td>0.066667</td>\n",
       "      <td>0.040000</td>\n",
       "      <td>0.200000</td>\n",
       "    </tr>\n",
       "    <tr>\n",
       "      <td>200</td>\n",
       "      <td>1.091500</td>\n",
       "      <td>0.742083</td>\n",
       "      <td>0.773333</td>\n",
       "      <td>0.770940</td>\n",
       "      <td>0.781384</td>\n",
       "      <td>0.773333</td>\n",
       "      <td>0.770940</td>\n",
       "      <td>0.781384</td>\n",
       "      <td>0.773333</td>\n",
       "    </tr>\n",
       "    <tr>\n",
       "      <td>300</td>\n",
       "      <td>0.659500</td>\n",
       "      <td>0.582330</td>\n",
       "      <td>0.818133</td>\n",
       "      <td>0.817767</td>\n",
       "      <td>0.823613</td>\n",
       "      <td>0.818133</td>\n",
       "      <td>0.817767</td>\n",
       "      <td>0.823613</td>\n",
       "      <td>0.818133</td>\n",
       "    </tr>\n",
       "    <tr>\n",
       "      <td>400</td>\n",
       "      <td>0.596500</td>\n",
       "      <td>0.562984</td>\n",
       "      <td>0.819200</td>\n",
       "      <td>0.818109</td>\n",
       "      <td>0.821443</td>\n",
       "      <td>0.819200</td>\n",
       "      <td>0.818109</td>\n",
       "      <td>0.821443</td>\n",
       "      <td>0.819200</td>\n",
       "    </tr>\n",
       "    <tr>\n",
       "      <td>500</td>\n",
       "      <td>0.633800</td>\n",
       "      <td>0.547248</td>\n",
       "      <td>0.816533</td>\n",
       "      <td>0.817509</td>\n",
       "      <td>0.829306</td>\n",
       "      <td>0.816533</td>\n",
       "      <td>0.817509</td>\n",
       "      <td>0.829306</td>\n",
       "      <td>0.816533</td>\n",
       "    </tr>\n",
       "    <tr>\n",
       "      <td>600</td>\n",
       "      <td>0.510100</td>\n",
       "      <td>0.515324</td>\n",
       "      <td>0.828800</td>\n",
       "      <td>0.828536</td>\n",
       "      <td>0.833139</td>\n",
       "      <td>0.828800</td>\n",
       "      <td>0.828536</td>\n",
       "      <td>0.833139</td>\n",
       "      <td>0.828800</td>\n",
       "    </tr>\n",
       "    <tr>\n",
       "      <td>700</td>\n",
       "      <td>0.480400</td>\n",
       "      <td>0.545461</td>\n",
       "      <td>0.819733</td>\n",
       "      <td>0.818189</td>\n",
       "      <td>0.835428</td>\n",
       "      <td>0.819733</td>\n",
       "      <td>0.818189</td>\n",
       "      <td>0.835428</td>\n",
       "      <td>0.819733</td>\n",
       "    </tr>\n",
       "    <tr>\n",
       "      <td>800</td>\n",
       "      <td>0.506200</td>\n",
       "      <td>0.510966</td>\n",
       "      <td>0.838400</td>\n",
       "      <td>0.838234</td>\n",
       "      <td>0.840560</td>\n",
       "      <td>0.838400</td>\n",
       "      <td>0.838234</td>\n",
       "      <td>0.840560</td>\n",
       "      <td>0.838400</td>\n",
       "    </tr>\n",
       "    <tr>\n",
       "      <td>900</td>\n",
       "      <td>0.550200</td>\n",
       "      <td>0.489683</td>\n",
       "      <td>0.843200</td>\n",
       "      <td>0.842800</td>\n",
       "      <td>0.845780</td>\n",
       "      <td>0.843200</td>\n",
       "      <td>0.842800</td>\n",
       "      <td>0.845780</td>\n",
       "      <td>0.843200</td>\n",
       "    </tr>\n",
       "    <tr>\n",
       "      <td>1000</td>\n",
       "      <td>0.442700</td>\n",
       "      <td>0.505838</td>\n",
       "      <td>0.845867</td>\n",
       "      <td>0.845732</td>\n",
       "      <td>0.847118</td>\n",
       "      <td>0.845867</td>\n",
       "      <td>0.845732</td>\n",
       "      <td>0.847118</td>\n",
       "      <td>0.845867</td>\n",
       "    </tr>\n",
       "    <tr>\n",
       "      <td>1100</td>\n",
       "      <td>0.511200</td>\n",
       "      <td>0.499789</td>\n",
       "      <td>0.845333</td>\n",
       "      <td>0.845965</td>\n",
       "      <td>0.849314</td>\n",
       "      <td>0.845333</td>\n",
       "      <td>0.845965</td>\n",
       "      <td>0.849314</td>\n",
       "      <td>0.845333</td>\n",
       "    </tr>\n",
       "    <tr>\n",
       "      <td>1200</td>\n",
       "      <td>0.381000</td>\n",
       "      <td>0.515136</td>\n",
       "      <td>0.846933</td>\n",
       "      <td>0.846884</td>\n",
       "      <td>0.849591</td>\n",
       "      <td>0.846933</td>\n",
       "      <td>0.846884</td>\n",
       "      <td>0.849591</td>\n",
       "      <td>0.846933</td>\n",
       "    </tr>\n",
       "    <tr>\n",
       "      <td>1300</td>\n",
       "      <td>0.408100</td>\n",
       "      <td>0.507020</td>\n",
       "      <td>0.854400</td>\n",
       "      <td>0.854686</td>\n",
       "      <td>0.855791</td>\n",
       "      <td>0.854400</td>\n",
       "      <td>0.854686</td>\n",
       "      <td>0.855791</td>\n",
       "      <td>0.854400</td>\n",
       "    </tr>\n",
       "    <tr>\n",
       "      <td>1400</td>\n",
       "      <td>0.384300</td>\n",
       "      <td>0.518102</td>\n",
       "      <td>0.844267</td>\n",
       "      <td>0.843706</td>\n",
       "      <td>0.848954</td>\n",
       "      <td>0.844267</td>\n",
       "      <td>0.843706</td>\n",
       "      <td>0.848954</td>\n",
       "      <td>0.844267</td>\n",
       "    </tr>\n",
       "    <tr>\n",
       "      <td>1500</td>\n",
       "      <td>0.328400</td>\n",
       "      <td>0.540695</td>\n",
       "      <td>0.845333</td>\n",
       "      <td>0.845523</td>\n",
       "      <td>0.848779</td>\n",
       "      <td>0.845333</td>\n",
       "      <td>0.845523</td>\n",
       "      <td>0.848779</td>\n",
       "      <td>0.845333</td>\n",
       "    </tr>\n",
       "    <tr>\n",
       "      <td>1600</td>\n",
       "      <td>0.353600</td>\n",
       "      <td>0.499888</td>\n",
       "      <td>0.855467</td>\n",
       "      <td>0.854895</td>\n",
       "      <td>0.856894</td>\n",
       "      <td>0.855467</td>\n",
       "      <td>0.854895</td>\n",
       "      <td>0.856894</td>\n",
       "      <td>0.855467</td>\n",
       "    </tr>\n",
       "    <tr>\n",
       "      <td>1700</td>\n",
       "      <td>0.273200</td>\n",
       "      <td>0.555213</td>\n",
       "      <td>0.845333</td>\n",
       "      <td>0.846006</td>\n",
       "      <td>0.851411</td>\n",
       "      <td>0.845333</td>\n",
       "      <td>0.846006</td>\n",
       "      <td>0.851411</td>\n",
       "      <td>0.845333</td>\n",
       "    </tr>\n",
       "    <tr>\n",
       "      <td>1800</td>\n",
       "      <td>0.302700</td>\n",
       "      <td>0.528011</td>\n",
       "      <td>0.852267</td>\n",
       "      <td>0.851860</td>\n",
       "      <td>0.852050</td>\n",
       "      <td>0.852267</td>\n",
       "      <td>0.851860</td>\n",
       "      <td>0.852050</td>\n",
       "      <td>0.852267</td>\n",
       "    </tr>\n",
       "    <tr>\n",
       "      <td>1900</td>\n",
       "      <td>0.237400</td>\n",
       "      <td>0.567383</td>\n",
       "      <td>0.848533</td>\n",
       "      <td>0.848865</td>\n",
       "      <td>0.851285</td>\n",
       "      <td>0.848533</td>\n",
       "      <td>0.848865</td>\n",
       "      <td>0.851285</td>\n",
       "      <td>0.848533</td>\n",
       "    </tr>\n",
       "  </tbody>\n",
       "</table><p>"
      ],
      "text/plain": [
       "<IPython.core.display.HTML object>"
      ]
     },
     "metadata": {},
     "output_type": "display_data"
    },
    {
     "data": {
      "text/html": [],
      "text/plain": [
       "<IPython.core.display.HTML object>"
      ]
     },
     "metadata": {},
     "output_type": "display_data"
    },
    {
     "name": "stderr",
     "output_type": "stream",
     "text": [
      "early stopping required metric_for_best_model, but did not find eval_accuracy so early stopping is disabled\n"
     ]
    },
    {
     "name": "stdout",
     "output_type": "stream",
     "text": [
      "📈 Results: Acc=0.8341, F1=0.8322\n"
     ]
    },
    {
     "data": {
      "text/html": [],
      "text/plain": [
       "<IPython.core.display.HTML object>"
      ]
     },
     "metadata": {},
     "output_type": "display_data"
    },
    {
     "data": {
      "text/html": [
       "<br>    <style><br>        .wandb-row {<br>            display: flex;<br>            flex-direction: row;<br>            flex-wrap: wrap;<br>            justify-content: flex-start;<br>            width: 100%;<br>        }<br>        .wandb-col {<br>            display: flex;<br>            flex-direction: column;<br>            flex-basis: 100%;<br>            flex: 1;<br>            padding: 10px;<br>        }<br>    </style><br><div class=\"wandb-row\"><div class=\"wandb-col\"><h3>Run history:</h3><br/><table class=\"wandb\"><tr><td>eval/accuracy</td><td>▁▇█████████████████</td></tr><tr><td>eval/f1</td><td>▁▇█████████████████</td></tr><tr><td>eval/f1_per_class_mean</td><td>▁▇█████████████████</td></tr><tr><td>eval/loss</td><td>█▃▂▁▁▁▁▁▁▁▁▁▁▁▁▁▁▁▁</td></tr><tr><td>eval/precision</td><td>▁▇█████████████████</td></tr><tr><td>eval/precision_per_class_mean</td><td>▁▇█████████████████</td></tr><tr><td>eval/recall</td><td>▁▇█████████████████</td></tr><tr><td>eval/recall_per_class_mean</td><td>▁▇█████████████████</td></tr><tr><td>eval/runtime</td><td>▂▂▂▁█▂▂▂▂▂▂▁▂▂▂▂▃▁▂</td></tr><tr><td>eval/samples_per_second</td><td>▇▇▇█▁▇▇▇▇▇▇█▇▇▇▇▆█▇</td></tr><tr><td>eval/steps_per_second</td><td>▇▇▇█▁▇▇▇▇▇▇█▇▇▇▇▆█▇</td></tr><tr><td>iteration</td><td>▁</td></tr><tr><td>test/accuracy</td><td>▁▁</td></tr><tr><td>test/f1</td><td>▁▁</td></tr><tr><td>test/f1_per_class_mean</td><td>▁▁</td></tr><tr><td>test/loss</td><td>▁▁</td></tr><tr><td>test/precision</td><td>▁▁</td></tr><tr><td>test/precision_per_class_mean</td><td>▁▁</td></tr><tr><td>test/recall</td><td>▁▁</td></tr><tr><td>test/recall_per_class_mean</td><td>▁▁</td></tr><tr><td>test/runtime</td><td>▁█</td></tr><tr><td>test/samples_per_second</td><td>█▁</td></tr><tr><td>test/steps_per_second</td><td>█▁</td></tr><tr><td>test_accuracy</td><td>▁</td></tr><tr><td>test_f1</td><td>▁</td></tr><tr><td>test_precision</td><td>▁</td></tr><tr><td>test_recall</td><td>▁</td></tr><tr><td>total_train_steps</td><td>▁</td></tr><tr><td>train/epoch</td><td>▁▁▁▁▂▂▂▂▂▂▃▃▃▃▃▄▄▄▄▄▄▅▅▅▅▅▅▆▆▆▇▇▇▇▇▇████</td></tr><tr><td>train/global_step</td><td>▁▁▁▁▂▂▂▂▃▃▃▃▄▄▄▄▄▄▅▅▅▅▅▆▆▆▆▆▇▇▇█████████</td></tr><tr><td>train/grad_norm</td><td>▁▂▁▂▃▃▆█▄▄▆▅▄▂▅▅▅▃▅▅▄▅▄▂▆▄▇▆█▄▁▄▄▂▃▅▆▂▁</td></tr><tr><td>train/learning_rate</td><td>▁▂▂▃▄▄▅▆▇▇████████▇▇▇▇▇▇▇▇▇▇▇▇▇▇▇▆▆▆▆▆▆</td></tr><tr><td>train/loss</td><td>████▅▃▃▃▃▃▃▃▂▃▂▂▂▂▃▂▂▂▂▂▂▂▂▂▂▂▁▂▂▁▁▁▁▁▁</td></tr><tr><td>train_runtime</td><td>▁</td></tr><tr><td>train_samples_per_second</td><td>▁</td></tr></table><br/></div><div class=\"wandb-col\"><h3>Run summary:</h3><br/><table class=\"wandb\"><tr><td>eval/accuracy</td><td>0.84853</td></tr><tr><td>eval/f1</td><td>0.84886</td></tr><tr><td>eval/f1_per_class_mean</td><td>0.84886</td></tr><tr><td>eval/loss</td><td>0.56738</td></tr><tr><td>eval/precision</td><td>0.85129</td></tr><tr><td>eval/precision_per_class_mean</td><td>0.85129</td></tr><tr><td>eval/recall</td><td>0.84853</td></tr><tr><td>eval/recall_per_class_mean</td><td>0.84853</td></tr><tr><td>eval/runtime</td><td>14.6985</td></tr><tr><td>eval/samples_per_second</td><td>127.564</td></tr><tr><td>eval/steps_per_second</td><td>8.028</td></tr><tr><td>iteration</td><td>4</td></tr><tr><td>test/accuracy</td><td>0.83413</td></tr><tr><td>test/f1</td><td>0.83223</td></tr><tr><td>test/f1_per_class_mean</td><td>0.83223</td></tr><tr><td>test/loss</td><td>0.59208</td></tr><tr><td>test/precision</td><td>0.83614</td></tr><tr><td>test/precision_per_class_mean</td><td>0.83614</td></tr><tr><td>test/recall</td><td>0.83413</td></tr><tr><td>test/recall_per_class_mean</td><td>0.83413</td></tr><tr><td>test/runtime</td><td>14.9397</td></tr><tr><td>test/samples_per_second</td><td>125.504</td></tr><tr><td>test/steps_per_second</td><td>7.898</td></tr><tr><td>test_accuracy</td><td>0.83413</td></tr><tr><td>test_f1</td><td>0.83223</td></tr><tr><td>test_precision</td><td>0.83614</td></tr><tr><td>test_recall</td><td>0.83413</td></tr><tr><td>total_flos</td><td>7997212822050816.0</td></tr><tr><td>total_train_steps</td><td>1900</td></tr><tr><td>train/epoch</td><td>3.47349</td></tr><tr><td>train/global_step</td><td>1900</td></tr><tr><td>train/grad_norm</td><td>3.01894</td></tr><tr><td>train/learning_rate</td><td>1e-05</td></tr><tr><td>train/loss</td><td>0.2374</td></tr><tr><td>train_loss</td><td>0.56278</td></tr><tr><td>train_runtime</td><td>1111.665</td></tr><tr><td>train_samples_per_second</td><td>78.711</td></tr><tr><td>train_steps_per_second</td><td>4.921</td></tr></table><br/></div></div>"
      ],
      "text/plain": [
       "<IPython.core.display.HTML object>"
      ]
     },
     "metadata": {},
     "output_type": "display_data"
    },
    {
     "data": {
      "text/html": [
       " View run <strong style=\"color:#cdcd00\">iteration_4</strong> at: <a href='https://wandb.ai/andretiagosilva77-faculdade-de-engenharia-da-universidad/consumer-complaints-robustness/runs/1k6xmogj' target=\"_blank\">https://wandb.ai/andretiagosilva77-faculdade-de-engenharia-da-universidad/consumer-complaints-robustness/runs/1k6xmogj</a><br> View project at: <a href='https://wandb.ai/andretiagosilva77-faculdade-de-engenharia-da-universidad/consumer-complaints-robustness' target=\"_blank\">https://wandb.ai/andretiagosilva77-faculdade-de-engenharia-da-universidad/consumer-complaints-robustness</a><br>Synced 5 W&B file(s), 5 media file(s), 0 artifact file(s) and 0 other file(s)"
      ],
      "text/plain": [
       "<IPython.core.display.HTML object>"
      ]
     },
     "metadata": {},
     "output_type": "display_data"
    },
    {
     "data": {
      "text/html": [
       "Find logs at: <code>./wandb/run-20250523_213835-1k6xmogj/logs</code>"
      ],
      "text/plain": [
       "<IPython.core.display.HTML object>"
      ]
     },
     "metadata": {},
     "output_type": "display_data"
    },
    {
     "name": "stdout",
     "output_type": "stream",
     "text": [
      "✅ Iteration 4 completed!\n",
      "\n",
      "📋 ITERATION 5/5\n",
      "----------------------------------------\n",
      "🔄 Split 5: Train=8750, Val=1875, Test=1875\n",
      "   Train classes: {0: 1750, 1: 1750, 2: 1750, 3: 1750, 4: 1750}\n",
      "   Val classes: {0: 375, 1: 375, 2: 375, 3: 375, 4: 375}\n",
      "   Test classes: {0: 375, 1: 375, 2: 375, 3: 375, 4: 375}\n",
      "🤖 Loading model: roberta-base\n"
     ]
    },
    {
     "name": "stderr",
     "output_type": "stream",
     "text": [
      "Some weights of RobertaForSequenceClassification were not initialized from the model checkpoint at roberta-base and are newly initialized: ['classifier.dense.bias', 'classifier.dense.weight', 'classifier.out_proj.bias', 'classifier.out_proj.weight']\n",
      "You should probably TRAIN this model on a down-stream task to be able to use it for predictions and inference.\n"
     ]
    },
    {
     "name": "stdout",
     "output_type": "stream",
     "text": [
      "⚠️ No PEFT applied. Using full fine-tuning.\n",
      "\n",
      "🚀 Starting training for iteration 5...\n"
     ]
    },
    {
     "data": {
      "text/html": [
       "Tracking run with wandb version 0.19.11"
      ],
      "text/plain": [
       "<IPython.core.display.HTML object>"
      ]
     },
     "metadata": {},
     "output_type": "display_data"
    },
    {
     "data": {
      "text/html": [
       "Run data is saved locally in <code>/teamspace/studios/this_studio/consumer-complaint-transformer-classifier/wandb/run-20250523_215741-fvsclvaf</code>"
      ],
      "text/plain": [
       "<IPython.core.display.HTML object>"
      ]
     },
     "metadata": {},
     "output_type": "display_data"
    },
    {
     "data": {
      "text/html": [
       "Syncing run <strong><a href='https://wandb.ai/andretiagosilva77-faculdade-de-engenharia-da-universidad/consumer-complaints-robustness/runs/fvsclvaf' target=\"_blank\">iteration_5</a></strong> to <a href='https://wandb.ai/andretiagosilva77-faculdade-de-engenharia-da-universidad/consumer-complaints-robustness' target=\"_blank\">Weights & Biases</a> (<a href='https://wandb.me/developer-guide' target=\"_blank\">docs</a>)<br>"
      ],
      "text/plain": [
       "<IPython.core.display.HTML object>"
      ]
     },
     "metadata": {},
     "output_type": "display_data"
    },
    {
     "data": {
      "text/html": [
       " View project at <a href='https://wandb.ai/andretiagosilva77-faculdade-de-engenharia-da-universidad/consumer-complaints-robustness' target=\"_blank\">https://wandb.ai/andretiagosilva77-faculdade-de-engenharia-da-universidad/consumer-complaints-robustness</a>"
      ],
      "text/plain": [
       "<IPython.core.display.HTML object>"
      ]
     },
     "metadata": {},
     "output_type": "display_data"
    },
    {
     "data": {
      "text/html": [
       " View run at <a href='https://wandb.ai/andretiagosilva77-faculdade-de-engenharia-da-universidad/consumer-complaints-robustness/runs/fvsclvaf' target=\"_blank\">https://wandb.ai/andretiagosilva77-faculdade-de-engenharia-da-universidad/consumer-complaints-robustness/runs/fvsclvaf</a>"
      ],
      "text/plain": [
       "<IPython.core.display.HTML object>"
      ]
     },
     "metadata": {},
     "output_type": "display_data"
    },
    {
     "name": "stdout",
     "output_type": "stream",
     "text": [
      "   Training with 8750 samples...\n"
     ]
    },
    {
     "data": {
      "text/html": [
       "\n",
       "    <div>\n",
       "      \n",
       "      <progress value='1500' max='5470' style='width:300px; height:20px; vertical-align: middle;'></progress>\n",
       "      [1500/5470 14:37 < 38:44, 1.71 it/s, Epoch 2/10]\n",
       "    </div>\n",
       "    <table border=\"1\" class=\"dataframe\">\n",
       "  <thead>\n",
       " <tr style=\"text-align: left;\">\n",
       "      <th>Step</th>\n",
       "      <th>Training Loss</th>\n",
       "      <th>Validation Loss</th>\n",
       "      <th>Accuracy</th>\n",
       "      <th>F1</th>\n",
       "      <th>Precision</th>\n",
       "      <th>Recall</th>\n",
       "      <th>F1 Per Class Mean</th>\n",
       "      <th>Precision Per Class Mean</th>\n",
       "      <th>Recall Per Class Mean</th>\n",
       "    </tr>\n",
       "  </thead>\n",
       "  <tbody>\n",
       "    <tr>\n",
       "      <td>100</td>\n",
       "      <td>1.607400</td>\n",
       "      <td>1.604966</td>\n",
       "      <td>0.241067</td>\n",
       "      <td>0.137303</td>\n",
       "      <td>0.185456</td>\n",
       "      <td>0.241067</td>\n",
       "      <td>0.137303</td>\n",
       "      <td>0.185456</td>\n",
       "      <td>0.241067</td>\n",
       "    </tr>\n",
       "    <tr>\n",
       "      <td>200</td>\n",
       "      <td>1.225700</td>\n",
       "      <td>0.931055</td>\n",
       "      <td>0.686933</td>\n",
       "      <td>0.667430</td>\n",
       "      <td>0.716958</td>\n",
       "      <td>0.686933</td>\n",
       "      <td>0.667430</td>\n",
       "      <td>0.716958</td>\n",
       "      <td>0.686933</td>\n",
       "    </tr>\n",
       "    <tr>\n",
       "      <td>300</td>\n",
       "      <td>0.717800</td>\n",
       "      <td>0.600101</td>\n",
       "      <td>0.803733</td>\n",
       "      <td>0.804715</td>\n",
       "      <td>0.813352</td>\n",
       "      <td>0.803733</td>\n",
       "      <td>0.804715</td>\n",
       "      <td>0.813352</td>\n",
       "      <td>0.803733</td>\n",
       "    </tr>\n",
       "    <tr>\n",
       "      <td>400</td>\n",
       "      <td>0.733800</td>\n",
       "      <td>0.565636</td>\n",
       "      <td>0.812267</td>\n",
       "      <td>0.813256</td>\n",
       "      <td>0.816942</td>\n",
       "      <td>0.812267</td>\n",
       "      <td>0.813256</td>\n",
       "      <td>0.816942</td>\n",
       "      <td>0.812267</td>\n",
       "    </tr>\n",
       "    <tr>\n",
       "      <td>500</td>\n",
       "      <td>0.643100</td>\n",
       "      <td>0.560594</td>\n",
       "      <td>0.819200</td>\n",
       "      <td>0.819499</td>\n",
       "      <td>0.822331</td>\n",
       "      <td>0.819200</td>\n",
       "      <td>0.819499</td>\n",
       "      <td>0.822331</td>\n",
       "      <td>0.819200</td>\n",
       "    </tr>\n",
       "    <tr>\n",
       "      <td>600</td>\n",
       "      <td>0.552700</td>\n",
       "      <td>0.526040</td>\n",
       "      <td>0.825067</td>\n",
       "      <td>0.825309</td>\n",
       "      <td>0.831481</td>\n",
       "      <td>0.825067</td>\n",
       "      <td>0.825309</td>\n",
       "      <td>0.831481</td>\n",
       "      <td>0.825067</td>\n",
       "    </tr>\n",
       "    <tr>\n",
       "      <td>700</td>\n",
       "      <td>0.535100</td>\n",
       "      <td>0.506030</td>\n",
       "      <td>0.827733</td>\n",
       "      <td>0.827951</td>\n",
       "      <td>0.834371</td>\n",
       "      <td>0.827733</td>\n",
       "      <td>0.827951</td>\n",
       "      <td>0.834371</td>\n",
       "      <td>0.827733</td>\n",
       "    </tr>\n",
       "    <tr>\n",
       "      <td>800</td>\n",
       "      <td>0.502000</td>\n",
       "      <td>0.507046</td>\n",
       "      <td>0.833067</td>\n",
       "      <td>0.831665</td>\n",
       "      <td>0.836633</td>\n",
       "      <td>0.833067</td>\n",
       "      <td>0.831665</td>\n",
       "      <td>0.836633</td>\n",
       "      <td>0.833067</td>\n",
       "    </tr>\n",
       "    <tr>\n",
       "      <td>900</td>\n",
       "      <td>0.514400</td>\n",
       "      <td>0.543624</td>\n",
       "      <td>0.828267</td>\n",
       "      <td>0.829695</td>\n",
       "      <td>0.837847</td>\n",
       "      <td>0.828267</td>\n",
       "      <td>0.829695</td>\n",
       "      <td>0.837847</td>\n",
       "      <td>0.828267</td>\n",
       "    </tr>\n",
       "    <tr>\n",
       "      <td>1000</td>\n",
       "      <td>0.541200</td>\n",
       "      <td>0.497935</td>\n",
       "      <td>0.829333</td>\n",
       "      <td>0.829647</td>\n",
       "      <td>0.835398</td>\n",
       "      <td>0.829333</td>\n",
       "      <td>0.829647</td>\n",
       "      <td>0.835398</td>\n",
       "      <td>0.829333</td>\n",
       "    </tr>\n",
       "    <tr>\n",
       "      <td>1100</td>\n",
       "      <td>0.488500</td>\n",
       "      <td>0.498173</td>\n",
       "      <td>0.841600</td>\n",
       "      <td>0.841849</td>\n",
       "      <td>0.845662</td>\n",
       "      <td>0.841600</td>\n",
       "      <td>0.841849</td>\n",
       "      <td>0.845662</td>\n",
       "      <td>0.841600</td>\n",
       "    </tr>\n",
       "    <tr>\n",
       "      <td>1200</td>\n",
       "      <td>0.446900</td>\n",
       "      <td>0.506940</td>\n",
       "      <td>0.849600</td>\n",
       "      <td>0.850219</td>\n",
       "      <td>0.852304</td>\n",
       "      <td>0.849600</td>\n",
       "      <td>0.850219</td>\n",
       "      <td>0.852304</td>\n",
       "      <td>0.849600</td>\n",
       "    </tr>\n",
       "    <tr>\n",
       "      <td>1300</td>\n",
       "      <td>0.422600</td>\n",
       "      <td>0.493376</td>\n",
       "      <td>0.849600</td>\n",
       "      <td>0.848836</td>\n",
       "      <td>0.850602</td>\n",
       "      <td>0.849600</td>\n",
       "      <td>0.848836</td>\n",
       "      <td>0.850602</td>\n",
       "      <td>0.849600</td>\n",
       "    </tr>\n",
       "    <tr>\n",
       "      <td>1400</td>\n",
       "      <td>0.306500</td>\n",
       "      <td>0.556778</td>\n",
       "      <td>0.842133</td>\n",
       "      <td>0.843047</td>\n",
       "      <td>0.848329</td>\n",
       "      <td>0.842133</td>\n",
       "      <td>0.843047</td>\n",
       "      <td>0.848329</td>\n",
       "      <td>0.842133</td>\n",
       "    </tr>\n",
       "    <tr>\n",
       "      <td>1500</td>\n",
       "      <td>0.375800</td>\n",
       "      <td>0.543450</td>\n",
       "      <td>0.843200</td>\n",
       "      <td>0.844300</td>\n",
       "      <td>0.850832</td>\n",
       "      <td>0.843200</td>\n",
       "      <td>0.844300</td>\n",
       "      <td>0.850832</td>\n",
       "      <td>0.843200</td>\n",
       "    </tr>\n",
       "  </tbody>\n",
       "</table><p>"
      ],
      "text/plain": [
       "<IPython.core.display.HTML object>"
      ]
     },
     "metadata": {},
     "output_type": "display_data"
    },
    {
     "data": {
      "text/html": [],
      "text/plain": [
       "<IPython.core.display.HTML object>"
      ]
     },
     "metadata": {},
     "output_type": "display_data"
    },
    {
     "name": "stderr",
     "output_type": "stream",
     "text": [
      "early stopping required metric_for_best_model, but did not find eval_accuracy so early stopping is disabled\n"
     ]
    },
    {
     "name": "stdout",
     "output_type": "stream",
     "text": [
      "📈 Results: Acc=0.8507, F1=0.8507\n"
     ]
    },
    {
     "data": {
      "text/html": [],
      "text/plain": [
       "<IPython.core.display.HTML object>"
      ]
     },
     "metadata": {},
     "output_type": "display_data"
    },
    {
     "data": {
      "text/html": [
       "<br>    <style><br>        .wandb-row {<br>            display: flex;<br>            flex-direction: row;<br>            flex-wrap: wrap;<br>            justify-content: flex-start;<br>            width: 100%;<br>        }<br>        .wandb-col {<br>            display: flex;<br>            flex-direction: column;<br>            flex-basis: 100%;<br>            flex: 1;<br>            padding: 10px;<br>        }<br>    </style><br><div class=\"wandb-row\"><div class=\"wandb-col\"><h3>Run history:</h3><br/><table class=\"wandb\"><tr><td>eval/accuracy</td><td>▁▆▇████████████</td></tr><tr><td>eval/f1</td><td>▁▆█████████████</td></tr><tr><td>eval/f1_per_class_mean</td><td>▁▆█████████████</td></tr><tr><td>eval/loss</td><td>█▄▂▁▁▁▁▁▁▁▁▁▁▁▁</td></tr><tr><td>eval/precision</td><td>▁▇█████████████</td></tr><tr><td>eval/precision_per_class_mean</td><td>▁▇█████████████</td></tr><tr><td>eval/recall</td><td>▁▆▇████████████</td></tr><tr><td>eval/recall_per_class_mean</td><td>▁▆▇████████████</td></tr><tr><td>eval/runtime</td><td>▁▆▂▃▅▆▃▃█▆▆▇▇▅▅</td></tr><tr><td>eval/samples_per_second</td><td>█▃▇▆▄▃▆▆▁▂▃▂▂▄▄</td></tr><tr><td>eval/steps_per_second</td><td>█▃▇▆▄▃▆▆▁▃▃▂▂▄▄</td></tr><tr><td>iteration</td><td>▁</td></tr><tr><td>test/accuracy</td><td>▁▁</td></tr><tr><td>test/f1</td><td>▁▁</td></tr><tr><td>test/f1_per_class_mean</td><td>▁▁</td></tr><tr><td>test/loss</td><td>▁▁</td></tr><tr><td>test/precision</td><td>▁▁</td></tr><tr><td>test/precision_per_class_mean</td><td>▁▁</td></tr><tr><td>test/recall</td><td>▁▁</td></tr><tr><td>test/recall_per_class_mean</td><td>▁▁</td></tr><tr><td>test/runtime</td><td>▁█</td></tr><tr><td>test/samples_per_second</td><td>█▁</td></tr><tr><td>test/steps_per_second</td><td>█▁</td></tr><tr><td>test_accuracy</td><td>▁</td></tr><tr><td>test_f1</td><td>▁</td></tr><tr><td>test_precision</td><td>▁</td></tr><tr><td>test_recall</td><td>▁</td></tr><tr><td>total_train_steps</td><td>▁</td></tr><tr><td>train/epoch</td><td>▁▁▁▁▂▂▂▂▂▃▃▃▃▃▄▄▄▄▄▄▅▅▅▅▅▆▆▆▆▆▇▇▇▇▇█████</td></tr><tr><td>train/global_step</td><td>▁▁▁▁▂▂▂▃▃▃▃▄▄▄▄▅▅▅▅▅▆▆▆▆▆▇▇▇▇▇██████████</td></tr><tr><td>train/grad_norm</td><td>▁▁▁▁▆▅▄▇▅▆▄▅▄▆▃▄▅▃▃▅▇▃▂█▇▅▅▄▄▄▅</td></tr><tr><td>train/learning_rate</td><td>▁▂▂▃▄▄▅▆▇▇████████▇▇▇▇▇▇▇▇▇▇▇▇▇</td></tr><tr><td>train/loss</td><td>████▆▄▃▃▃▃▃▃▂▂▂▂▂▂▂▂▂▂▂▂▂▁▂▁▁▂▁</td></tr><tr><td>train_runtime</td><td>▁</td></tr><tr><td>train_samples_per_second</td><td>▁</td></tr></table><br/></div><div class=\"wandb-col\"><h3>Run summary:</h3><br/><table class=\"wandb\"><tr><td>eval/accuracy</td><td>0.8432</td></tr><tr><td>eval/f1</td><td>0.8443</td></tr><tr><td>eval/f1_per_class_mean</td><td>0.8443</td></tr><tr><td>eval/loss</td><td>0.54345</td></tr><tr><td>eval/precision</td><td>0.85083</td></tr><tr><td>eval/precision_per_class_mean</td><td>0.85083</td></tr><tr><td>eval/recall</td><td>0.8432</td></tr><tr><td>eval/recall_per_class_mean</td><td>0.8432</td></tr><tr><td>eval/runtime</td><td>14.7074</td></tr><tr><td>eval/samples_per_second</td><td>127.487</td></tr><tr><td>eval/steps_per_second</td><td>8.023</td></tr><tr><td>iteration</td><td>5</td></tr><tr><td>test/accuracy</td><td>0.85067</td></tr><tr><td>test/f1</td><td>0.85071</td></tr><tr><td>test/f1_per_class_mean</td><td>0.85071</td></tr><tr><td>test/loss</td><td>0.49475</td></tr><tr><td>test/precision</td><td>0.85282</td></tr><tr><td>test/precision_per_class_mean</td><td>0.85282</td></tr><tr><td>test/recall</td><td>0.85067</td></tr><tr><td>test/recall_per_class_mean</td><td>0.85067</td></tr><tr><td>test/runtime</td><td>14.9585</td></tr><tr><td>test/samples_per_second</td><td>125.346</td></tr><tr><td>test/steps_per_second</td><td>7.888</td></tr><tr><td>test_accuracy</td><td>0.85067</td></tr><tr><td>test_f1</td><td>0.85071</td></tr><tr><td>test_precision</td><td>0.85282</td></tr><tr><td>test_recall</td><td>0.85067</td></tr><tr><td>total_flos</td><td>6313782946566144.0</td></tr><tr><td>total_train_steps</td><td>1500</td></tr><tr><td>train/epoch</td><td>2.74223</td></tr><tr><td>train/global_step</td><td>1500</td></tr><tr><td>train/grad_norm</td><td>13.7879</td></tr><tr><td>train/learning_rate</td><td>2e-05</td></tr><tr><td>train/loss</td><td>0.3758</td></tr><tr><td>train_loss</td><td>0.65828</td></tr><tr><td>train_runtime</td><td>877.6578</td></tr><tr><td>train_samples_per_second</td><td>99.697</td></tr><tr><td>train_steps_per_second</td><td>6.232</td></tr></table><br/></div></div>"
      ],
      "text/plain": [
       "<IPython.core.display.HTML object>"
      ]
     },
     "metadata": {},
     "output_type": "display_data"
    },
    {
     "data": {
      "text/html": [
       " View run <strong style=\"color:#cdcd00\">iteration_5</strong> at: <a href='https://wandb.ai/andretiagosilva77-faculdade-de-engenharia-da-universidad/consumer-complaints-robustness/runs/fvsclvaf' target=\"_blank\">https://wandb.ai/andretiagosilva77-faculdade-de-engenharia-da-universidad/consumer-complaints-robustness/runs/fvsclvaf</a><br> View project at: <a href='https://wandb.ai/andretiagosilva77-faculdade-de-engenharia-da-universidad/consumer-complaints-robustness' target=\"_blank\">https://wandb.ai/andretiagosilva77-faculdade-de-engenharia-da-universidad/consumer-complaints-robustness</a><br>Synced 5 W&B file(s), 5 media file(s), 0 artifact file(s) and 0 other file(s)"
      ],
      "text/plain": [
       "<IPython.core.display.HTML object>"
      ]
     },
     "metadata": {},
     "output_type": "display_data"
    },
    {
     "data": {
      "text/html": [
       "Find logs at: <code>./wandb/run-20250523_215741-fvsclvaf/logs</code>"
      ],
      "text/plain": [
       "<IPython.core.display.HTML object>"
      ]
     },
     "metadata": {},
     "output_type": "display_data"
    },
    {
     "name": "stdout",
     "output_type": "stream",
     "text": [
      "✅ Iteration 5 completed!\n",
      "\n",
      "================================================================================\n",
      "📊 FINAL STATISTICAL ROBUSTNESS ANALYSIS\n",
      "================================================================================\n",
      "\n",
      "📈 AGGREGATED METRICS ACROSS 5 ITERATIONS:\n",
      "------------------------------------------------------------\n",
      "Accuracy    : 0.8346 ± 0.0118 [0.8139 - 0.8507]\n",
      "F1          : 0.8342 ± 0.0119 [0.8139 - 0.8507]\n",
      "Precision   : 0.8366 ± 0.0110 [0.8184 - 0.8528]\n",
      "Recall      : 0.8346 ± 0.0118 [0.8139 - 0.8507]\n",
      "\n",
      "📊 INDIVIDUAL ITERATION RESULTS:\n",
      "------------------------------------------------------------\n",
      "Iteration  1: Acc=0.8139, F1=0.8139, Prec=0.8184, Rec=0.8139\n",
      "Iteration  2: Acc=0.8363, F1=0.8360, Prec=0.8360, Rec=0.8363\n",
      "Iteration  3: Acc=0.8379, F1=0.8380, Prec=0.8395, Rec=0.8379\n",
      "Iteration  4: Acc=0.8341, F1=0.8322, Prec=0.8361, Rec=0.8341\n",
      "Iteration  5: Acc=0.8507, F1=0.8507, Prec=0.8528, Rec=0.8507\n"
     ]
    },
    {
     "data": {
      "image/png": "[encoded data removed]",
      "text/plain": [
       "<Figure size 1200x1000 with 4 Axes>"
      ]
     },
     "metadata": {},
     "output_type": "display_data"
    },
    {
     "name": "stdout",
     "output_type": "stream",
     "text": [
      "\n",
      "✅ Pipeline completed successfully!\n",
      "📁 Results saved in: ./outputs\n",
      "📈 Check Weights & Biases project: consumer-complaints-robustness\n",
      "📊 Visualizations saved as: ./outputs/results_distribution.png\n",
      "\n",
      "⚖️  CONCLUSION: Model shows MODERATE statistical robustness\n"
     ]
    }
   ],
   "source": [
    "## Consumer Complaint Classification Pipeline\n",
    "\n",
    "import os\n",
    "import pandas as pd\n",
    "import numpy as np\n",
    "import torch\n",
    "from sklearn.model_selection import train_test_split\n",
    "from sklearn.preprocessing import LabelEncoder\n",
    "from sklearn.metrics import accuracy_score, precision_recall_fscore_support, classification_report, roc_auc_score, roc_curve\n",
    "from sklearn.preprocessing import label_binarize \n",
    "from transformers import (\n",
    "    AutoTokenizer, \n",
    "    AutoModelForSequenceClassification,\n",
    "    TrainingArguments, \n",
    "    Trainer,\n",
    "    EarlyStoppingCallback\n",
    ")\n",
    "from peft import get_peft_model, LoraModel ,LoraConfig, TaskType, PrefixEncoder, PrefixTuningConfig, IA3Config, IA3Model\n",
    "from torch.utils.data import Dataset\n",
    "import wandb\n",
    "import random\n",
    "import matplotlib.pyplot as plt\n",
    "import seaborn as sns\n",
    "from collections import defaultdict\n",
    "\n",
    "# =====================================\n",
    "# W&B AUTHENTICATION\n",
    "# =====================================\n",
    "\n",
    "# Insert your W&B API key here\n",
    "WANDB_API_KEY = \"71205bbb0d873d20bc29f836d86ca04ce650833e\"  # Replace with your actual API key\n",
    "\n",
    "# Login to W&B\n",
    "wandb.login(key=WANDB_API_KEY)\n",
    "\n",
    "# =====================================\n",
    "# CONFIGURATION & SETUP\n",
    "# =====================================\n",
    "\n",
    "class Config:\n",
    "    # Model Configuration - Choose appropriate pre-trained model\n",
    "    MODEL_NAME = \"roberta-base\"  # Efficient for English text classification\n",
    "    MAX_LENGTH = 512\n",
    "    \n",
    "    # Training Configuration (Fixed hyperparameters - no tuning)\n",
    "    LEARNING_RATE = 2e-5  # Lower learning rate as suggested by professor\n",
    "    BATCH_SIZE = 16\n",
    "    NUM_EPOCHS = 10  # More epochs to observe learning curves and plateaus\n",
    "    WARMUP_STEPS = 500\n",
    "    WEIGHT_DECAY = 0.01\n",
    "    \n",
    "    # Statistical Robustness Configuration\n",
    "    NUM_ITERATIONS = 5  # Different train/val/test splits\n",
    "    SAMPLE_SIZE_PER_CLASS = 2500  # Balanced sampling per class\n",
    "    \n",
    "    # Monitoring & Logging\n",
    "    LOGGING_STEPS = 50  # Frequent logging for real-time metrics\n",
    "    EVAL_STEPS = 100    # Evaluate every 100 steps\n",
    "    SAVE_STEPS = 200\n",
    "    \n",
    "    # Paths\n",
    "    DATA_PATH = './data/complaints.csv'  # make sure the file exists here\n",
    "    OUTPUT_DIR = './outputs'  # local directory you can write to\n",
    "    \n",
    "    # W&B Configuration\n",
    "    WANDB_PROJECT = \"consumer-complaints-robustness\"\n",
    "    WANDB_ENTITY = None  # Set your W&B username if needed\n",
    "\n",
    "def set_seed(seed=42):\n",
    "    \"\"\"Set seed for reproducibility across all iterations\"\"\"\n",
    "    random.seed(seed)\n",
    "    np.random.seed(seed)\n",
    "    torch.manual_seed(seed)\n",
    "    torch.cuda.manual_seed_all(seed)\n",
    "    \n",
    "def setup_wandb(iteration):\n",
    "    \"\"\"Initialize W&B for tracking real-time metrics\"\"\"\n",
    "    wandb.init(\n",
    "        project=Config.WANDB_PROJECT,\n",
    "        entity=Config.WANDB_ENTITY,\n",
    "        name=f\"iteration_{iteration + 1}\",\n",
    "        config={\n",
    "            \"model\": Config.MODEL_NAME,\n",
    "            \"learning_rate\": Config.LEARNING_RATE,\n",
    "            \"batch_size\": Config.BATCH_SIZE,\n",
    "            \"epochs\": Config.NUM_EPOCHS,\n",
    "            \"max_length\": Config.MAX_LENGTH,\n",
    "            \"iteration\": iteration + 1,\n",
    "            \"sample_size_per_class\": Config.SAMPLE_SIZE_PER_CLASS\n",
    "        },\n",
    "        reinit=True,\n",
    "        tags=[\"statistical_robustness\", \"transformer\", \"classification\"]\n",
    "    )\n",
    "\n",
    "# =====================================\n",
    "# DATASET PREPARATION\n",
    "# =====================================\n",
    "\n",
    "class ComplaintDataset(Dataset):\n",
    "    \"\"\"Custom dataset for consumer complaints\"\"\"\n",
    "    \n",
    "    def __init__(self, texts, labels, tokenizer, max_length=512):\n",
    "        self.texts = texts\n",
    "        self.labels = labels\n",
    "        self.tokenizer = tokenizer\n",
    "        self.max_length = max_length\n",
    "    \n",
    "    def __len__(self):\n",
    "        return len(self.texts)\n",
    "    \n",
    "    def __getitem__(self, idx):\n",
    "        text = str(self.texts[idx])\n",
    "        encoding = self.tokenizer(\n",
    "            text,\n",
    "            truncation=True,\n",
    "            padding='max_length',\n",
    "            max_length=self.max_length,\n",
    "            return_tensors='pt'\n",
    "        )\n",
    "        \n",
    "        return {\n",
    "            'input_ids': encoding['input_ids'].flatten(),\n",
    "            'attention_mask': encoding['attention_mask'].flatten(),\n",
    "            'labels': torch.tensor(self.labels[idx], dtype=torch.long)\n",
    "        }\n",
    "\n",
    "def load_and_prepare_data():\n",
    "    \"\"\"Load and prepare the consumer complaints dataset\"\"\"\n",
    "    print(\"📊 Loading and preparing dataset...\")\n",
    "    \n",
    "    # Load data\n",
    "    df = pd.read_csv(Config.DATA_PATH)\n",
    "    if 'Unnamed: 0' in df.columns:\n",
    "        df = df.drop(columns=['Unnamed: 0'])\n",
    "    \n",
    "    print(f\"   Original dataset size: {len(df)}\")\n",
    "    print(f\"   Original class distribution:\")\n",
    "    print(df['product_5'].value_counts())\n",
    "    \n",
    "    # Balance dataset by sampling from each class\n",
    "    df_balanced = df.groupby(\"product_5\").sample(\n",
    "        n=Config.SAMPLE_SIZE_PER_CLASS, \n",
    "        random_state=42,\n",
    "        replace=False  # Ensure no duplicates\n",
    "    ).reset_index(drop=True)\n",
    "    \n",
    "    # Encode labels\n",
    "    label_encoder = LabelEncoder()\n",
    "    encoded_labels = label_encoder.fit_transform(df_balanced['product_5'])\n",
    "    \n",
    "    # Create label mapping\n",
    "    label_mapping = {i: label for i, label in enumerate(label_encoder.classes_)}\n",
    "    \n",
    "    print(f\"✅ Balanced dataset prepared: {len(df_balanced)} samples\")\n",
    "    print(f\"📋 Classes ({len(label_mapping)}): {list(label_mapping.values())}\")\n",
    "    print(f\"📋 Samples per class: {Config.SAMPLE_SIZE_PER_CLASS}\")\n",
    "    \n",
    "    return df_balanced['narrative'].values, encoded_labels, label_mapping, label_encoder\n",
    "\n",
    "def create_stratified_splits(texts, labels, iteration):\n",
    "    \"\"\"Create stratified train/validation/test splits for statistical robustness\"\"\"\n",
    "    \n",
    "    # Use different random state for each iteration to ensure different splits\n",
    "    random_state = 42 + iteration * 10\n",
    "    \n",
    "    # First split: 70% train, 30% temp\n",
    "    train_texts, temp_texts, train_labels, temp_labels = train_test_split(\n",
    "        texts, labels, \n",
    "        test_size=0.3, \n",
    "        random_state=random_state, \n",
    "        stratify=labels\n",
    "    )\n",
    "    \n",
    "    # Second split: 15% validation, 15% test (from the 30% temp)\n",
    "    val_texts, test_texts, val_labels, test_labels = train_test_split(\n",
    "        temp_texts, temp_labels,\n",
    "        test_size=0.5,  # 50% of 30% = 15% of total\n",
    "        random_state=random_state,\n",
    "        stratify=temp_labels\n",
    "    )\n",
    "    \n",
    "    print(f\"🔄 Split {iteration + 1}: Train={len(train_texts)}, Val={len(val_texts)}, Test={len(test_texts)}\")\n",
    "    \n",
    "    # Verify class distribution is maintained\n",
    "    unique_train, counts_train = np.unique(train_labels, return_counts=True)\n",
    "    unique_val, counts_val = np.unique(val_labels, return_counts=True)\n",
    "    unique_test, counts_test = np.unique(test_labels, return_counts=True)\n",
    "    \n",
    "    print(f\"   Train classes: {dict(zip(unique_train, counts_train))}\")\n",
    "    print(f\"   Val classes: {dict(zip(unique_val, counts_val))}\")\n",
    "    print(f\"   Test classes: {dict(zip(unique_test, counts_test))}\")\n",
    "    \n",
    "    return (train_texts, train_labels), (val_texts, val_labels), (test_texts, test_labels)\n",
    "\n",
    "# =====================================\n",
    "# MODEL & TRAINING SETUP\n",
    "# =====================================\n",
    "\n",
    "def setup_model_and_tokenizer(num_labels, model_type=\"distilbert\", peft_type=\"none\"):\n",
    "    \"\"\"Initialize model, tokenizer, and wrap with PEFT if specified\"\"\"\n",
    "    print(f\"🤖 Loading model: {Config.MODEL_NAME}\")\n",
    "    \n",
    "    tokenizer = AutoTokenizer.from_pretrained(Config.MODEL_NAME)\n",
    "    model = AutoModelForSequenceClassification.from_pretrained(\n",
    "        Config.MODEL_NAME,\n",
    "        num_labels=num_labels,\n",
    "        problem_type=\"single_label_classification\"\n",
    "    )\n",
    "    \n",
    "    # Add pad token if missing\n",
    "    if tokenizer.pad_token is None:\n",
    "        tokenizer.pad_token = tokenizer.eos_token\n",
    "        model.config.pad_token_id = model.config.eos_token_id\n",
    "\n",
    "    # Determine target modules for PEFT\n",
    "    if peft_type.lower() == \"lora\":\n",
    "        if model_type == \"distilbert\":\n",
    "            target_modules = [\"q_lin\", \"v_lin\"]\n",
    "        elif model_type == \"roberta\":\n",
    "            target_modules = [\"q\", \"v\"]\n",
    "        else:\n",
    "            raise ValueError(f\"Unsupported model_type for LoRA: {model_type}\")\n",
    "\n",
    "        lora_config = LoraConfig(\n",
    "            task_type=TaskType.SEQ_CLS,\n",
    "            r=8,\n",
    "            lora_alpha=16,\n",
    "            target_modules=target_modules,\n",
    "            lora_dropout=0.1,\n",
    "            bias=\"none\"\n",
    "        )\n",
    "        model = get_peft_model(model, lora_config)\n",
    "\n",
    "    elif peft_type.lower() == \"prefix\":\n",
    "        prefix_config = PrefixTuningConfig(\n",
    "            peft_type=\"PREFIX_TUNING\",\n",
    "            task_type=\"SEQ_CLS\",\n",
    "            num_virtual_tokens=20,\n",
    "            token_dim=model.config.hidden_size,\n",
    "            num_attention_heads=model.config.num_attention_heads,\n",
    "            num_layers=model.config.num_hidden_layers,\n",
    "        )\n",
    "        model = get_peft_model(model, prefix_config)\n",
    "\n",
    "    elif peft_type.lower() == \"ia3\":\n",
    "        ia3_config = IA3Config(\n",
    "            peft_type=\"IA3\",\n",
    "            task_type=\"SEQ_CLS\",\n",
    "            target_modules=[\"k\", \"v\"],\n",
    "            feedforward_modules=[\"intermediate.dense\"]\n",
    "        )\n",
    "        model = get_peft_model(model, ia3_config)\n",
    "\n",
    "    else:\n",
    "        print(\"⚠️ No PEFT applied. Using full fine-tuning.\")\n",
    "\n",
    "    return model, tokenizer\n",
    "\n",
    "def compute_metrics(eval_pred):\n",
    "    \"\"\"Compute comprehensive metrics for evaluation\"\"\"\n",
    "    predictions, labels = eval_pred\n",
    "    predictions = np.argmax(predictions, axis=1)\n",
    "    \n",
    "    # Calculate metrics\n",
    "    precision, recall, f1, _ = precision_recall_fscore_support(\n",
    "        labels, predictions, average='weighted', zero_division=0\n",
    "    )\n",
    "    accuracy = accuracy_score(labels, predictions)\n",
    "    \n",
    "    # Per-class metrics for detailed analysis\n",
    "    precision_per_class, recall_per_class, f1_per_class, _ = precision_recall_fscore_support(\n",
    "        labels, predictions, average=None, zero_division=0\n",
    "    )\n",
    "    \n",
    "    return {\n",
    "        'accuracy': accuracy,\n",
    "        'f1': f1,\n",
    "        'precision': precision,\n",
    "        'recall': recall,\n",
    "        'f1_per_class_mean': np.mean(f1_per_class),\n",
    "        'precision_per_class_mean': np.mean(precision_per_class),\n",
    "        'recall_per_class_mean': np.mean(recall_per_class)\n",
    "    }\n",
    "\n",
    "# =====================================\n",
    "# TRAINING PIPELINE\n",
    "# =====================================\n",
    "\n",
    "def train_single_iteration(iteration, train_data, val_data, test_data, \n",
    "                         model, tokenizer, label_mapping):\n",
    "    \"\"\"Train model for a single iteration and evaluate performance\"\"\"\n",
    "    \n",
    "    print(f\"\\n🚀 Starting training for iteration {iteration + 1}...\")\n",
    "    \n",
    "    # Initialize W&B for this iteration\n",
    "    setup_wandb(iteration)\n",
    "    \n",
    "    # Create datasets from data tuples\n",
    "    train_dataset = ComplaintDataset(*train_data, tokenizer, Config.MAX_LENGTH)\n",
    "    val_dataset = ComplaintDataset(*val_data, tokenizer, Config.MAX_LENGTH)\n",
    "    test_dataset = ComplaintDataset(*test_data, tokenizer, Config.MAX_LENGTH)\n",
    "    \n",
    "    # Define iteration-specific paths\n",
    "    iter_dir = f\"{Config.OUTPUT_DIR}/iteration_{iteration + 1}\"\n",
    "    \n",
    "    # Setup training arguments with aligned evaluation and saving strategies\n",
    "    training_args = TrainingArguments(\n",
    "        # Basic configuration\n",
    "        output_dir=iter_dir,\n",
    "        num_train_epochs=Config.NUM_EPOCHS,\n",
    "        per_device_train_batch_size=Config.BATCH_SIZE,\n",
    "        per_device_eval_batch_size=Config.BATCH_SIZE,\n",
    "        \n",
    "        # Optimization parameters\n",
    "        learning_rate=Config.LEARNING_RATE,\n",
    "        weight_decay=Config.WEIGHT_DECAY,\n",
    "        warmup_steps=Config.WARMUP_STEPS,\n",
    "        \n",
    "        # Evaluation and saving - MUST use the same strategy when using load_best_model_at_end\n",
    "        eval_strategy=\"steps\",  # Changed from \"no\" to \"steps\"\n",
    "        save_strategy=\"steps\",\n",
    "        eval_steps=Config.EVAL_STEPS,\n",
    "        save_steps=Config.SAVE_STEPS,\n",
    "        load_best_model_at_end=True,\n",
    "        metric_for_best_model=\"eval_accuracy\",\n",
    "        greater_is_better=True,\n",
    "        save_total_limit=3,\n",
    "        \n",
    "        # Logging\n",
    "        logging_dir=f\"{iter_dir}/logs\",\n",
    "        logging_steps=Config.LOGGING_STEPS,\n",
    "        logging_first_step=True,\n",
    "        report_to=\"wandb\",\n",
    "        run_name=f\"iteration_{iteration + 1}\",\n",
    "        \n",
    "        # System settings\n",
    "        dataloader_num_workers=0,\n",
    "        fp16=torch.cuda.is_available(),\n",
    "        seed=42 + iteration,\n",
    "    )\n",
    "    \n",
    "    # Initialize trainer with early stopping\n",
    "    trainer = Trainer(\n",
    "        model=model,\n",
    "        args=training_args,\n",
    "        train_dataset=train_dataset,\n",
    "        eval_dataset=val_dataset,\n",
    "        compute_metrics=compute_metrics,\n",
    "        callbacks=[EarlyStoppingCallback(early_stopping_patience=3, early_stopping_threshold=0.001)]\n",
    "    )\n",
    "    \n",
    "    # Train and evaluate\n",
    "    print(f\"   Training with {len(train_dataset)} samples...\")\n",
    "    train_result = trainer.train()\n",
    "    test_results = trainer.evaluate(test_dataset, metric_key_prefix=\"test\")\n",
    "    \n",
    "    # Log training metrics to W&B\n",
    "    wandb.log({\n",
    "        \"train_runtime\": train_result.metrics.get(\"train_runtime\", 0),\n",
    "        \"train_samples_per_second\": train_result.metrics.get(\"train_samples_per_second\", 0),\n",
    "        \"total_train_steps\": train_result.global_step,\n",
    "        \"iteration\": iteration + 1\n",
    "    })\n",
    "    \n",
    "    # Generate predictions and classification report\n",
    "    predictions = trainer.predict(test_dataset)\n",
    "    # Get raw predicted probabilities (after softmax)\n",
    "    probs = torch.nn.functional.softmax(torch.tensor(predictions.predictions), dim=1).numpy()\n",
    "\n",
    "    # True labels\n",
    "    y_true = label_binarize(test_data[1], classes=list(range(len(label_mapping))))\n",
    "\n",
    "    # Compute ROC AUC for each class\n",
    "    roc_auc_per_class = {}\n",
    "    for i, class_name in enumerate(label_mapping.values()):\n",
    "        fpr, tpr, _ = roc_curve(y_true[:, i], probs[:, i])\n",
    "        auc_score = roc_auc_score(y_true[:, i], probs[:, i])\n",
    "        roc_auc_per_class[class_name] = auc_score\n",
    "\n",
    "    # Optional: Plot and log ROC curve to W&B\n",
    "        plt.figure()\n",
    "        plt.plot(fpr, tpr, label=f'ROC curve (area = {auc_score:.2f})')\n",
    "        plt.plot([0, 1], [0, 1], 'k--')\n",
    "        plt.xlabel('False Positive Rate')\n",
    "        plt.ylabel('True Positive Rate')\n",
    "        plt.title(f'ROC Curve - {class_name}')\n",
    "        plt.legend(loc='lower right')\n",
    "        plt.grid()\n",
    "        roc_path = f\"{iter_dir}/roc_{class_name}.png\"\n",
    "        plt.savefig(roc_path)\n",
    "        wandb.log({f\"roc_curve_{class_name}\": wandb.Image(roc_path)})\n",
    "        plt.close()\n",
    "    y_pred = np.argmax(predictions.predictions, axis=1)\n",
    "    class_names = [label_mapping[i] for i in range(len(label_mapping))]\n",
    "    report = classification_report(\n",
    "        test_data[1], y_pred, target_names=class_names, output_dict=True, zero_division=0\n",
    "    )\n",
    "    \n",
    "    # Log test results\n",
    "    wandb.log({\n",
    "        \"test_accuracy\": test_results[\"test_accuracy\"],\n",
    "        \"test_f1\": test_results[\"test_f1\"],\n",
    "        \"test_precision\": test_results[\"test_precision\"],\n",
    "        \"test_recall\": test_results[\"test_recall\"]\n",
    "    })\n",
    "    \n",
    "    # Log per-class metrics\n",
    "    for i, class_name in enumerate(class_names):\n",
    "        if str(i) in report:\n",
    "            class_key = class_name.lower().replace(' ', '_')\n",
    "            wandb.log({\n",
    "                f\"test_{class_key}_f1\": report[str(i)]['f1-score'],\n",
    "                f\"test_{class_key}_precision\": report[str(i)]['precision'],\n",
    "                f\"test_{class_key}_recall\": report[str(i)]['recall']\n",
    "            })\n",
    "    \n",
    "    # Print results\n",
    "    print(f\"📈 Results: Acc={test_results['test_accuracy']:.4f}, F1={test_results['test_f1']:.4f}\")\n",
    "    \n",
    "    # Save model and tokenizer\n",
    "    model_path = f\"{Config.OUTPUT_DIR}/best_model_iteration_{iteration + 1}\"\n",
    "    trainer.save_model(model_path)\n",
    "    tokenizer.save_pretrained(model_path)\n",
    "    \n",
    "    wandb.finish()\n",
    "    \n",
    "    # Return key metrics\n",
    "    return {\n",
    "        'accuracy': test_results[\"test_accuracy\"],\n",
    "        'f1': test_results[\"test_f1\"],\n",
    "        'precision': test_results[\"test_precision\"],\n",
    "        'recall': test_results[\"test_recall\"],\n",
    "        'classification_report': report,\n",
    "        'train_steps': train_result.global_step,\n",
    "        'model_path': model_path\n",
    "    }\n",
    "\n",
    "# =====================================\n",
    "# MAIN PIPELINE EXECUTION\n",
    "# =====================================\n",
    "\n",
    "def create_results_summary(all_results):\n",
    "    \"\"\"Create comprehensive results summary\"\"\"\n",
    "    \n",
    "    # Extract metrics\n",
    "    accuracies = [r['accuracy'] for r in all_results]\n",
    "    f1_scores = [r['f1'] for r in all_results]\n",
    "    precisions = [r['precision'] for r in all_results]\n",
    "    recalls = [r['recall'] for r in all_results]\n",
    "    \n",
    "    # Calculate statistics\n",
    "    results_summary = {\n",
    "        'accuracy': {\n",
    "            'mean': np.mean(accuracies),\n",
    "            'std': np.std(accuracies),\n",
    "            'min': np.min(accuracies),\n",
    "            'max': np.max(accuracies),\n",
    "            'values': accuracies\n",
    "        },\n",
    "        'f1': {\n",
    "            'mean': np.mean(f1_scores),\n",
    "            'std': np.std(f1_scores),\n",
    "            'min': np.min(f1_scores),\n",
    "            'max': np.max(f1_scores),\n",
    "            'values': f1_scores\n",
    "        },\n",
    "        'precision': {\n",
    "            'mean': np.mean(precisions),\n",
    "            'std': np.std(precisions),\n",
    "            'min': np.min(precisions),\n",
    "            'max': np.max(precisions),\n",
    "            'values': precisions\n",
    "        },\n",
    "        'recall': {\n",
    "            'mean': np.mean(recalls),\n",
    "            'std': np.std(recalls),\n",
    "            'min': np.min(recalls),\n",
    "            'max': np.max(recalls),\n",
    "            'values': recalls\n",
    "        }\n",
    "    }\n",
    "    \n",
    "    return results_summary\n",
    "\n",
    "def plot_results_distribution(results_summary):\n",
    "    \"\"\"Create visualization of results distribution\"\"\"\n",
    "    \n",
    "    fig, axes = plt.subplots(2, 2, figsize=(12, 10))\n",
    "    fig.suptitle('Statistical Robustness Results Distribution', fontsize=16)\n",
    "    \n",
    "    metrics = ['accuracy', 'f1', 'precision', 'recall']\n",
    "    colors = ['blue', 'green', 'orange', 'red']\n",
    "    \n",
    "    for i, (metric, color) in enumerate(zip(metrics, colors)):\n",
    "        ax = axes[i//2, i%2]\n",
    "        values = results_summary[metric]['values']\n",
    "        \n",
    "        # Box plot\n",
    "        ax.boxplot(values, patch_artist=True, \n",
    "                  boxprops=dict(facecolor=color, alpha=0.3))\n",
    "        ax.scatter(range(1, len(values)+1), values, \n",
    "                  color=color, alpha=0.7, s=50)\n",
    "        \n",
    "        # Add mean line\n",
    "        mean_val = results_summary[metric]['mean']\n",
    "        ax.axhline(y=mean_val, color=color, linestyle='--', alpha=0.8)\n",
    "        \n",
    "        ax.set_title(f'{metric.capitalize()} Distribution')\n",
    "        ax.set_ylabel(metric.capitalize())\n",
    "        ax.set_xlabel('Iteration')\n",
    "        ax.grid(True, alpha=0.3)\n",
    "        \n",
    "        # Add statistics text\n",
    "        std_val = results_summary[metric]['std']\n",
    "        ax.text(0.02, 0.98, f'Mean: {mean_val:.4f}\\nStd: {std_val:.4f}', \n",
    "               transform=ax.transAxes, verticalalignment='top',\n",
    "               bbox=dict(boxstyle='round', facecolor='white', alpha=0.8))\n",
    "    \n",
    "    plt.tight_layout()\n",
    "    plt.savefig(f'{Config.OUTPUT_DIR}/results_distribution.png', dpi=300, bbox_inches='tight')\n",
    "    plt.show()\n",
    "\n",
    "def main():\n",
    "    \"\"\"Main pipeline execution with comprehensive statistical robustness analysis\"\"\"\n",
    "    \n",
    "    print(\"🔥 Consumer Complaint Classification - Statistical Robustness Pipeline\")\n",
    "    print(\"=\" * 80)\n",
    "    print(f\"Model: {Config.MODEL_NAME}\")\n",
    "    print(f\"Learning Rate: {Config.LEARNING_RATE}\")\n",
    "    print(f\"Epochs: {Config.NUM_EPOCHS}\")\n",
    "    print(f\"Iterations: {Config.NUM_ITERATIONS}\")\n",
    "    print(\"=\" * 80)\n",
    "    \n",
    "    # Set up environment\n",
    "    set_seed(42)\n",
    "    device = torch.device(\"cuda\" if torch.cuda.is_available() else \"cpu\")\n",
    "    print(f\"💻 Using device: {device}\")\n",
    "    \n",
    "    # Create output directory\n",
    "    os.makedirs(Config.OUTPUT_DIR, exist_ok=True)\n",
    "    \n",
    "    # Load and prepare data\n",
    "    texts, labels, label_mapping, label_encoder = load_and_prepare_data()\n",
    "    \n",
    "    # Store results across iterations\n",
    "    all_results = []\n",
    "    \n",
    "    print(f\"\\n🔄 Starting {Config.NUM_ITERATIONS} iterations for statistical robustness...\")\n",
    "    print(\"-\" * 80)\n",
    "    \n",
    "    # Run multiple iterations with different splits\n",
    "    for iteration in range(Config.NUM_ITERATIONS):\n",
    "        print(f\"\\n📋 ITERATION {iteration + 1}/{Config.NUM_ITERATIONS}\")\n",
    "        print(\"-\" * 40)\n",
    "        \n",
    "        # Create new splits for this iteration\n",
    "        train_data, val_data, test_data = create_stratified_splits(texts, labels, iteration)\n",
    "        \n",
    "        # Initialize fresh model for each iteration\n",
    "        model, tokenizer = setup_model_and_tokenizer(len(label_mapping), \"roberta\")\n",
    "        model.to(device)\n",
    "        \n",
    "        # Train and evaluate\n",
    "        results = train_single_iteration(\n",
    "            iteration, train_data, val_data, test_data, \n",
    "            model, tokenizer, label_mapping\n",
    "        )\n",
    "        \n",
    "        all_results.append(results)\n",
    "        print(f\"✅ Iteration {iteration + 1} completed!\")\n",
    "        \n",
    "        # Clear CUDA cache to prevent memory issues\n",
    "        if torch.cuda.is_available():\n",
    "            torch.cuda.empty_cache()\n",
    "    \n",
    "    # =====================================\n",
    "    # AGGREGATE RESULTS & ANALYSIS\n",
    "    # =====================================\n",
    "    \n",
    "    print(\"\\n\" + \"=\" * 80)\n",
    "    print(\"📊 FINAL STATISTICAL ROBUSTNESS ANALYSIS\")\n",
    "    print(\"=\" * 80)\n",
    "    \n",
    "    # Create comprehensive results summary\n",
    "    results_summary = create_results_summary(all_results)\n",
    "    \n",
    "    # Print aggregated statistics\n",
    "    print(f\"\\n📈 AGGREGATED METRICS ACROSS {Config.NUM_ITERATIONS} ITERATIONS:\")\n",
    "    print(\"-\" * 60)\n",
    "    for metric in ['accuracy', 'f1', 'precision', 'recall']:\n",
    "        stats = results_summary[metric]\n",
    "        print(f\"{metric.capitalize():12}: {stats['mean']:.4f} ± {stats['std']:.4f} \"\n",
    "              f\"[{stats['min']:.4f} - {stats['max']:.4f}]\")\n",
    "    \n",
    "    print(f\"\\n📊 INDIVIDUAL ITERATION RESULTS:\")\n",
    "    print(\"-\" * 60)\n",
    "    for i, results in enumerate(all_results):\n",
    "        print(f\"Iteration {i+1:2d}: Acc={results['accuracy']:.4f}, \"\n",
    "              f\"F1={results['f1']:.4f}, Prec={results['precision']:.4f}, \"\n",
    "              f\"Rec={results['recall']:.4f}\")\n",
    "    \n",
    "    # Create visualization\n",
    "    plot_results_distribution(results_summary)\n",
    "    \n",
    "    # Save detailed results\n",
    "    results_df = pd.DataFrame([\n",
    "        {\n",
    "            'iteration': i+1,\n",
    "            'accuracy': r['accuracy'],\n",
    "            'f1': r['f1'],\n",
    "            'precision': r['precision'],\n",
    "            'recall': r['recall'],\n",
    "            'train_steps': r['train_steps'],\n",
    "            'model_path': r['model_path']\n",
    "        }\n",
    "        for i, r in enumerate(all_results)\n",
    "    ])\n",
    "    \n",
    "    results_df.to_csv(f'{Config.OUTPUT_DIR}/detailed_results.csv', index=False)\n",
    "    \n",
    "    # Save summary statistics\n",
    "    summary_df = pd.DataFrame([\n",
    "        {\n",
    "            'metric': metric,\n",
    "            'mean': stats['mean'],\n",
    "            'std': stats['std'],\n",
    "            'min': stats['min'],\n",
    "            'max': stats['max']\n",
    "        }\n",
    "        for metric, stats in results_summary.items()\n",
    "    ])\n",
    "    \n",
    "    summary_df.to_csv(f'{Config.OUTPUT_DIR}/summary_statistics.csv', index=False)\n",
    "    \n",
    "    print(f\"\\n✅ Pipeline completed successfully!\")\n",
    "    print(f\"📁 Results saved in: {Config.OUTPUT_DIR}\")\n",
    "    print(f\"📈 Check Weights & Biases project: {Config.WANDB_PROJECT}\")\n",
    "    print(f\"📊 Visualizations saved as: {Config.OUTPUT_DIR}/results_distribution.png\")\n",
    "    \n",
    "    # Final recommendations based on results\n",
    "    acc_std = results_summary['accuracy']['std']\n",
    "    if acc_std < 0.01:\n",
    "        print(\"\\n🎯 CONCLUSION: Model shows STRONG statistical robustness (low variance)\")\n",
    "    elif acc_std < 0.02:\n",
    "        print(\"\\n⚖️  CONCLUSION: Model shows MODERATE statistical robustness\")\n",
    "    else:\n",
    "        print(\"\\n⚠️  CONCLUSION: Model shows HIGH variance - consider more data or different approach\")\n",
    "\n",
    "if __name__ == \"__main__\":\n",
    "    main()"
   ]
  }
 ],
 "metadata": {
  "kernelspec": {
   "display_name": "Python 3",
   "language": "python",
   "name": "python3"
  },
  "language_info": {
   "codemirror_mode": {
    "name": "ipython",
    "version": 3
   },
   "file_extension": ".py",
   "mimetype": "text/x-python",
   "name": "python",
   "nbconvert_exporter": "python",
   "pygments_lexer": "ipython3",
   "version": "3.10.12"
  }
 },
 "nbformat": 4,
 "nbformat_minor": 2
}
