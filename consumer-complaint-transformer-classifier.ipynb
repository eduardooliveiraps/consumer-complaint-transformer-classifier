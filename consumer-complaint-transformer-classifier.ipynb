{
 "cells": [
  {
   "cell_type": "markdown",
   "id": "94c28d3b",
   "metadata": {},
   "source": [
    "# Consumer Complaint Classification – Transformers "
   ]
  }
 ],
 "metadata": {
  "language_info": {
   "name": "python"
  }
 },
 "nbformat": 4,
 "nbformat_minor": 5
}
